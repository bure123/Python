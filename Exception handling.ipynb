{
 "cells": [
  {
   "cell_type": "raw",
   "id": "03a8fca1-bd6c-4fa9-8d9a-c95455a52f09",
   "metadata": {},
   "source": [
    "# errors are divided into 3 types\n",
    " . 1.syntax error\n",
    " . 2.logical error\n",
    " . 3.runtime error\n",
    " - runtime error are calling it as `Exception`\n",
    "\n",
    "# Handling Runtime Errors\n",
    " . special keywords are available to handle these exceptions\n",
    " . 1.try : try is a block of code containing errors\n",
    " \n",
    " .2.except :except will handle there errors"
   ]
  },
  {
   "cell_type": "code",
   "execution_count": 3,
   "id": "b7b2c023-9f67-4831-b906-e2a9be576b2b",
   "metadata": {},
   "outputs": [
    {
     "name": "stdin",
     "output_type": "stream",
     "text": [
      "Enter first number: 10\n",
      "Enter first number: 0\n"
     ]
    },
    {
     "ename": "ZeroDivisionError",
     "evalue": "division by zero",
     "output_type": "error",
     "traceback": [
      "\u001b[1;31m---------------------------------------------------------------------------\u001b[0m",
      "\u001b[1;31mZeroDivisionError\u001b[0m                         Traceback (most recent call last)",
      "Cell \u001b[1;32mIn[3], line 3\u001b[0m\n\u001b[0;32m      1\u001b[0m num1\u001b[38;5;241m=\u001b[39m\u001b[38;5;28mint\u001b[39m(\u001b[38;5;28minput\u001b[39m(\u001b[38;5;124m\"\u001b[39m\u001b[38;5;124mEnter first number:\u001b[39m\u001b[38;5;124m\"\u001b[39m))\n\u001b[0;32m      2\u001b[0m num2\u001b[38;5;241m=\u001b[39m\u001b[38;5;28mint\u001b[39m(\u001b[38;5;28minput\u001b[39m(\u001b[38;5;124m\"\u001b[39m\u001b[38;5;124mEnter first number:\u001b[39m\u001b[38;5;124m\"\u001b[39m))\n\u001b[1;32m----> 3\u001b[0m \u001b[38;5;28mprint\u001b[39m(num1\u001b[38;5;241m/\u001b[39mnum2)\n",
      "\u001b[1;31mZeroDivisionError\u001b[0m: division by zero"
     ]
    }
   ],
   "source": [
    "num1=int(input(\"Enter first number:\"))\n",
    "num2=int(input(\"Enter first number:\"))\n",
    "print(num1/num2)"
   ]
  },
  {
   "cell_type": "code",
   "execution_count": 4,
   "id": "f7853a1b-3d47-48e7-b1e9-99512ec350ac",
   "metadata": {},
   "outputs": [
    {
     "name": "stdin",
     "output_type": "stream",
     "text": [
      "Enter first number: 10\n",
      "Enter first number: 0\n"
     ]
    },
    {
     "name": "stdout",
     "output_type": "stream",
     "text": [
      "you should not pass zero in the denominator\n"
     ]
    }
   ],
   "source": [
    "num1=int(input(\"Enter first number:\"))\n",
    "num2=int(input(\"Enter first number:\"))\n",
    "try:\n",
    "    print(num1/num2)\n",
    "\n",
    "except:\n",
    "    print(\"you should not pass zero in the denominator\")"
   ]
  },
  {
   "cell_type": "code",
   "execution_count": 8,
   "id": "d0233014-3f69-4e36-9f24-92edf0c23adf",
   "metadata": {},
   "outputs": [
    {
     "name": "stdin",
     "output_type": "stream",
     "text": [
      "Enter first number: abc\n"
     ]
    },
    {
     "name": "stdout",
     "output_type": "stream",
     "text": [
      "you should not pass zero in the denominator\n"
     ]
    }
   ],
   "source": [
    "try:\n",
    "    num1=int(input(\"Enter first number:\"))\n",
    "    num2=int(input(\"Enter first number:\"))\n",
    "    print(num1/num2)\n",
    "except :\n",
    "    print(\"you should not pass zero in the denominator\")"
   ]
  },
  {
   "cell_type": "code",
   "execution_count": 7,
   "id": "aa5207e3-bc06-4e99-a5ea-9e5b429186a7",
   "metadata": {},
   "outputs": [
    {
     "name": "stdin",
     "output_type": "stream",
     "text": [
      "Enter first number: abc\n"
     ]
    },
    {
     "name": "stdout",
     "output_type": "stream",
     "text": [
      "you should not pass literals\n"
     ]
    }
   ],
   "source": [
    "try:\n",
    "    num1=int(input(\"Enter first number:\"))\n",
    "    num2=int(input(\"Enter first number:\"))\n",
    "    print(num1/num2)\n",
    "except ValueError:\n",
    "    print(\"you should not pass literals\")\n",
    "\n",
    "except ZeroDivisionError:\n",
    "    print(\"you should not pass zero in the denominator\")"
   ]
  },
  {
   "cell_type": "markdown",
   "id": "8bb4c8fa-fcc0-46bc-a866-c06d1c0860f6",
   "metadata": {},
   "source": [
    "# 1. create an empty dictionary\n",
    "# 2.create functions with following options\n",
    " - 1.display contacts\n",
    " - 2.add contact\n",
    " - 3.search contact\n",
    " - 4.delete contact\n",
    " - 5.quit"
   ]
  },
  {
   "cell_type": "code",
   "execution_count": 3,
   "id": "bb4adffd-9629-4f2a-8be7-59ba60bf321a",
   "metadata": {},
   "outputs": [
    {
     "name": "stdout",
     "output_type": "stream",
     "text": [
      "1. Display Contacts\n",
      "2. Add Contact\n",
      "3. Search Contact\n",
      "4. Delete Contact\n",
      "5. Quit\n"
     ]
    },
    {
     "name": "stdin",
     "output_type": "stream",
     "text": [
      "Enter your choice (1-5):  5\n"
     ]
    },
    {
     "name": "stdout",
     "output_type": "stream",
     "text": [
      "Quit\n"
     ]
    }
   ],
   "source": [
    "contacts = {}\n",
    "\n",
    "def display_contacts():\n",
    "    if contacts:\n",
    "        for name, number in contacts.items():\n",
    "            print(f\"Name: {name}, Number: {number}\")\n",
    "    else:\n",
    "        print(\"Contact list is empty.\")\n",
    "\n",
    "def add_contact():\n",
    "    name = input(\"Enter contact name: \")\n",
    "    number = input(\"Enter contact number: \")\n",
    "    if name in contacts:\n",
    "        print(\"Contact already exists.\")\n",
    "    else:\n",
    "        contacts[name] = number\n",
    "        print(\"Contact added.\")\n",
    "\n",
    "def search_contact():\n",
    "    name = input(\"Enter name to search: \")\n",
    "    if name in contacts:\n",
    "        print(f\"Found: Name: {name}, Number: {contacts[name]}\")\n",
    "    else:\n",
    "        print(\"Contact not found.\")\n",
    "\n",
    "def delete_contact():\n",
    "    name = input(\"Enter name to delete: \")\n",
    "    if name in contacts:\n",
    "        del contacts[name]\n",
    "        print(\"Contact deleted.\")\n",
    "    else:\n",
    "        print(\"Contact not found.\")\n",
    "\n",
    "def option():\n",
    "    while True:\n",
    "        print(\"1. Display Contacts\")\n",
    "        print(\"2. Add Contact\")\n",
    "        print(\"3. Search Contact\")\n",
    "        print(\"4. Delete Contact\")\n",
    "        print(\"5. Quit\")\n",
    "        choice = input(\"Enter your choice (1-5): \")\n",
    "        if choice not in ['1', '2', '3', '4', '5']:\n",
    "            print(\"Invalid input. Please select from the given numbers: 1, 2, 3, 4, 5\")\n",
    "            choice = input(\"Enter your choice (1-5): \")\n",
    "\n",
    "        \n",
    "        if choice == '1':\n",
    "            display_contacts()\n",
    "        elif choice == '2':\n",
    "            add_contact()\n",
    "        elif choice == '3':\n",
    "            search_contact()\n",
    "        elif choice == '4':\n",
    "            delete_contact()\n",
    "        elif choice == '5':\n",
    "            print(\"Quit\")\n",
    "            break\n",
    "\n",
    "\n",
    "option()\n"
   ]
  },
  {
   "cell_type": "code",
   "execution_count": 2,
   "id": "3751249c-b06c-4c3b-b964-76f5f5b0dc09",
   "metadata": {},
   "outputs": [
    {
     "name": "stdin",
     "output_type": "stream",
     "text": [
      "Enter first number: 10\n",
      "Enter first number: 20\n"
     ]
    },
    {
     "name": "stdout",
     "output_type": "stream",
     "text": [
      "0.5\n",
      "Variable is not define\n"
     ]
    }
   ],
   "source": [
    "try:\n",
    "    num1=int(input(\"Enter first number:\"))\n",
    "    num2=int(input(\"Enter first number:\"))\n",
    "    print(num1/num2)\n",
    "    print(ram)\n",
    "except ValueError:\n",
    "    print(\"you should not pass literals\")\n",
    "\n",
    "except ZeroDivisionError:\n",
    "    print(\"you should not pass zero in the denominator\")\n",
    "except NameError:\n",
    "    print(\"Variable is not define\")"
   ]
  },
  {
   "cell_type": "code",
   "execution_count": 3,
   "id": "4b57ee7d-076c-4988-9080-24ec89dedc1c",
   "metadata": {},
   "outputs": [
    {
     "name": "stdout",
     "output_type": "stream",
     "text": [
      "Exception name is: FileNotFoundError\n"
     ]
    }
   ],
   "source": [
    "try:\n",
    "    with open(\"xyz.txt\",mode=\"r\") as file:\n",
    "        print(file.read())\n",
    "except Exception as e:\n",
    "    print(\"Exception name is:\",type(e).__name__)\n",
    "except Exception:\n",
    "    print(\"Something is fishyyyy!!!!\")"
   ]
  },
  {
   "cell_type": "code",
   "execution_count": 7,
   "id": "64fa3d8d-8241-409a-923c-6be2c03e7243",
   "metadata": {},
   "outputs": [
    {
     "name": "stdin",
     "output_type": "stream",
     "text": [
      "Enter first number: 10\n",
      "Enter first number: 0\n"
     ]
    },
    {
     "name": "stdout",
     "output_type": "stream",
     "text": [
      "Something is fishyyyy!!!!\n"
     ]
    }
   ],
   "source": [
    "try:\n",
    "    num1=int(input(\"Enter first number:\"))\n",
    "    num2=int(input(\"Enter first number:\"))\n",
    "    print(num1/num2)\n",
    "#except Exception as e:\n",
    "   # print(\"Exception name is:\",type(e).__name__)\n",
    "except Exception:\n",
    "    print(\"Something is fishyyyy!!!!\")"
   ]
  },
  {
   "cell_type": "code",
   "execution_count": 8,
   "id": "b3ebf169-8b23-4b56-9369-238f582c0b1b",
   "metadata": {},
   "outputs": [
    {
     "name": "stdin",
     "output_type": "stream",
     "text": [
      "Enter first number: 10\n",
      "Enter first number: 0\n"
     ]
    },
    {
     "name": "stdout",
     "output_type": "stream",
     "text": [
      "Something is fishyyyy!!!!\n"
     ]
    }
   ],
   "source": [
    "try:\n",
    "    num1=int(input(\"Enter first number:\"))\n",
    "    num2=int(input(\"Enter first number:\"))\n",
    "    print(num1/num2)\n",
    "    print(ram)\n",
    "#never ever keep this super Exception in the starting position\n",
    "except Exception:\n",
    "    print(\"Something is fishyyyy!!!!\")\n",
    "except ValueError:     #predefined exception\n",
    "    print(\"you should not pass literals\")\n",
    "\n",
    "except ZeroDivisionError:   #predefined\n",
    "    print(\"you should not pass zero in the denominator\")\n",
    "except NameError:    #predefined\n",
    "    print(\"Variable is not define\")"
   ]
  },
  {
   "cell_type": "markdown",
   "id": "7766a148-a7bc-436c-9637-02f9a154a4be",
   "metadata": {},
   "source": [
    "# syntax errors con't handeled by exception"
   ]
  },
  {
   "cell_type": "markdown",
   "id": "acf7dd61-b918-404c-a970-e909779ecae9",
   "metadata": {},
   "source": [
    "# custom exception"
   ]
  },
  {
   "cell_type": "code",
   "execution_count": 2,
   "id": "b951a9db-ca23-4606-8c28-6b7b09260bea",
   "metadata": {},
   "outputs": [],
   "source": [
    "class MyOwnException(Exception):\n",
    "    pass\n",
    "class ValueTooSmall(Exception):\n",
    "    pass\n",
    "class ValueTooBig(MyOwnException):\n",
    "    pass"
   ]
  },
  {
   "cell_type": "code",
   "execution_count": 3,
   "id": "3106ba26-f1ff-4d5e-96ed-9917839c1f3d",
   "metadata": {},
   "outputs": [
    {
     "name": "stdin",
     "output_type": "stream",
     "text": [
      "Enter your guess: 1\n"
     ]
    },
    {
     "name": "stdout",
     "output_type": "stream",
     "text": [
      "4\n",
      "you entered small number!\n"
     ]
    },
    {
     "name": "stdin",
     "output_type": "stream",
     "text": [
      "Enter your guess: 2\n"
     ]
    },
    {
     "name": "stdout",
     "output_type": "stream",
     "text": [
      "1\n",
      "you entered big number!\n"
     ]
    },
    {
     "name": "stdin",
     "output_type": "stream",
     "text": [
      "Enter your guess: 3\n"
     ]
    },
    {
     "name": "stdout",
     "output_type": "stream",
     "text": [
      "5\n",
      "you entered small number!\n"
     ]
    },
    {
     "name": "stdin",
     "output_type": "stream",
     "text": [
      "Enter your guess: 4\n"
     ]
    },
    {
     "name": "stdout",
     "output_type": "stream",
     "text": [
      "5\n",
      "you entered small number!\n"
     ]
    },
    {
     "name": "stdin",
     "output_type": "stream",
     "text": [
      "Enter your guess: 5\n"
     ]
    },
    {
     "name": "stdout",
     "output_type": "stream",
     "text": [
      "5\n",
      "you will\n"
     ]
    }
   ],
   "source": [
    "import random\n",
    "while True:\n",
    "    try:\n",
    "        num=int(input(\"Enter your guess:\"))\n",
    "        guess=random.randint(1,5)\n",
    "        print(guess)\n",
    "        if num>guess:\n",
    "            raise ValueTooBig  #raise is a keyword,used for calling custom exceptions\n",
    "        elif num<guess:\n",
    "            raise ValueTooSmall\n",
    "        \n",
    "        else:\n",
    "            print(\"you will\")\n",
    "        break\n",
    "    except ValueTooSmall:\n",
    "        print(\"you entered small number!\")\n",
    "    except ValueTooBig:\n",
    "        print(\"you entered big number!\")"
   ]
  },
  {
   "cell_type": "code",
   "execution_count": 11,
   "id": "add67574-d4d1-4224-bf59-ef2dd3059a47",
   "metadata": {},
   "outputs": [
    {
     "name": "stdin",
     "output_type": "stream",
     "text": [
      "Enter username:  hari\n"
     ]
    },
    {
     "name": "stdout",
     "output_type": "stream",
     "text": [
      "username does not match!\n"
     ]
    }
   ],
   "source": [
    "database={'ram':2000,'charan':2002,'venkat':2004}\n",
    "username = input(\"Enter username: \")\n",
    "#password = int(input(\"Enter password: \"))\n",
    "\n",
    "if username in database:\n",
    "        #if database[username] == password:\n",
    "     print(f\"Welcome {username}!\")\n",
    "else:\n",
    "     print(\"username does not match!\")\n",
    "           "
   ]
  },
  {
   "cell_type": "markdown",
   "id": "7e36a4c1-b06b-4627-a1e9-35dfd791b9c9",
   "metadata": {},
   "source": [
    "# lottery:\n",
    " -1. take input from user\n",
    " \n",
    " -2. generate a random number between 2 to 7\n",
    " \n",
    " -3.guess the random number with input\n",
    " \n",
    "     -if both are same,you win\n",
    "     -else you lose.\n",
    "  - condition:you will have only 3 chance to guess the number\n"
   ]
  },
  {
   "cell_type": "code",
   "execution_count": 48,
   "id": "82b96a05-544c-4b6b-bdbe-355ded6b3cff",
   "metadata": {},
   "outputs": [
    {
     "name": "stdout",
     "output_type": "stream",
     "text": [
      "chance- 1\n"
     ]
    },
    {
     "name": "stdin",
     "output_type": "stream",
     "text": [
      "   original num= 6\n"
     ]
    },
    {
     "name": "stdout",
     "output_type": "stream",
     "text": [
      "   your guess= 2\n",
      "   you lost\n",
      "chance- 2\n"
     ]
    },
    {
     "name": "stdin",
     "output_type": "stream",
     "text": [
      "   original num= 5\n"
     ]
    },
    {
     "name": "stdout",
     "output_type": "stream",
     "text": [
      "   your guess= 5\n",
      "   you won!\n"
     ]
    }
   ],
   "source": [
    "import random\n",
    "max_attempts=3\n",
    "attempts=0\n",
    "while attempts<max_attempts:\n",
    "    try:\n",
    "        print(f\"chance- {attempts+1}\")\n",
    "        num=int(input(\"   original num=\"))\n",
    "        guess=random.randint(2,7)\n",
    "        print(f\"   your guess= {guess}\")\n",
    "        if guess==num:\n",
    "            print(\"   you won!\")\n",
    "            break\n",
    "        else:\n",
    "            print(\"   you lost\")\n",
    "            attempts+=1\n",
    "    except Exception:\n",
    "         print(\"Invalid input. Please enter a number.\")\n",
    "            \n",
    "else:\n",
    "    print(f\"your maximum attempts {max_attempts} completed\")\n",
    "    "
   ]
  }
 ],
 "metadata": {
  "kernelspec": {
   "display_name": "Python 3 (ipykernel)",
   "language": "python",
   "name": "python3"
  },
  "language_info": {
   "codemirror_mode": {
    "name": "ipython",
    "version": 3
   },
   "file_extension": ".py",
   "mimetype": "text/x-python",
   "name": "python",
   "nbconvert_exporter": "python",
   "pygments_lexer": "ipython3",
   "version": "3.12.7"
  }
 },
 "nbformat": 4,
 "nbformat_minor": 5
}
