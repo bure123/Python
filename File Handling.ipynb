{
 "cells": [
  {
   "cell_type": "code",
   "execution_count": 1,
   "id": "960998be-af6c-41a0-9a7b-773bdfd2e560",
   "metadata": {},
   "outputs": [],
   "source": [
    "import os"
   ]
  },
  {
   "cell_type": "code",
   "execution_count": 2,
   "id": "0db2449b-6be6-4b12-a2e8-9ab06c8019cf",
   "metadata": {},
   "outputs": [
    {
     "data": {
      "text/plain": [
       "'C:\\\\Users\\\\burela srilakshmi'"
      ]
     },
     "execution_count": 2,
     "metadata": {},
     "output_type": "execute_result"
    }
   ],
   "source": [
    "os.getcwd()"
   ]
  },
  {
   "cell_type": "code",
   "execution_count": 4,
   "id": "67e47a36-8b00-4809-8273-e904eb9c7935",
   "metadata": {},
   "outputs": [
    {
     "data": {
      "text/plain": [
       "'C:\\\\Users\\\\burela srilakshmi'"
      ]
     },
     "execution_count": 4,
     "metadata": {},
     "output_type": "execute_result"
    }
   ],
   "source": [
    "pwd"
   ]
  },
  {
   "cell_type": "markdown",
   "id": "bdbac3f2-b716-48e2-affa-84052bc0e1ee",
   "metadata": {},
   "source": [
    "# read()\n",
    " . read() is used to read the data from any file which is already available.\n",
    "\n",
    " . if the file is not available, it will throw error"
   ]
  },
  {
   "cell_type": "markdown",
   "id": "728bd9a7-f1b2-4e5c-97df-ee7b40bfd917",
   "metadata": {},
   "source": [
    "# reading file from same location"
   ]
  },
  {
   "cell_type": "code",
   "execution_count": 8,
   "id": "45a782a4-34b2-4fd8-bc45-3dcac0c21b91",
   "metadata": {
    "collapsed": true,
    "jupyter": {
     "outputs_hidden": true
    }
   },
   "outputs": [
    {
     "ename": "FileNotFoundError",
     "evalue": "[Errno 2] No such file or directory: 'sample.txt'",
     "output_type": "error",
     "traceback": [
      "\u001b[1;31m---------------------------------------------------------------------------\u001b[0m",
      "\u001b[1;31mFileNotFoundError\u001b[0m                         Traceback (most recent call last)",
      "Cell \u001b[1;32mIn[8], line 1\u001b[0m\n\u001b[1;32m----> 1\u001b[0m \u001b[38;5;28;01mwith\u001b[39;00m \u001b[38;5;28mopen\u001b[39m(\u001b[38;5;124m\"\u001b[39m\u001b[38;5;124msample.txt\u001b[39m\u001b[38;5;124m\"\u001b[39m,mode\u001b[38;5;241m=\u001b[39m\u001b[38;5;124m'\u001b[39m\u001b[38;5;124mr\u001b[39m\u001b[38;5;124m'\u001b[39m) \u001b[38;5;28;01mas\u001b[39;00m file:\n\u001b[0;32m      2\u001b[0m     \u001b[38;5;28mprint\u001b[39m(file\u001b[38;5;241m.\u001b[39mread())\n",
      "File \u001b[1;32m~\\anaconda3\\Lib\\site-packages\\IPython\\core\\interactiveshell.py:324\u001b[0m, in \u001b[0;36m_modified_open\u001b[1;34m(file, *args, **kwargs)\u001b[0m\n\u001b[0;32m    317\u001b[0m \u001b[38;5;28;01mif\u001b[39;00m file \u001b[38;5;129;01min\u001b[39;00m {\u001b[38;5;241m0\u001b[39m, \u001b[38;5;241m1\u001b[39m, \u001b[38;5;241m2\u001b[39m}:\n\u001b[0;32m    318\u001b[0m     \u001b[38;5;28;01mraise\u001b[39;00m \u001b[38;5;167;01mValueError\u001b[39;00m(\n\u001b[0;32m    319\u001b[0m         \u001b[38;5;124mf\u001b[39m\u001b[38;5;124m\"\u001b[39m\u001b[38;5;124mIPython won\u001b[39m\u001b[38;5;124m'\u001b[39m\u001b[38;5;124mt let you open fd=\u001b[39m\u001b[38;5;132;01m{\u001b[39;00mfile\u001b[38;5;132;01m}\u001b[39;00m\u001b[38;5;124m by default \u001b[39m\u001b[38;5;124m\"\u001b[39m\n\u001b[0;32m    320\u001b[0m         \u001b[38;5;124m\"\u001b[39m\u001b[38;5;124mas it is likely to crash IPython. If you know what you are doing, \u001b[39m\u001b[38;5;124m\"\u001b[39m\n\u001b[0;32m    321\u001b[0m         \u001b[38;5;124m\"\u001b[39m\u001b[38;5;124myou can use builtins\u001b[39m\u001b[38;5;124m'\u001b[39m\u001b[38;5;124m open.\u001b[39m\u001b[38;5;124m\"\u001b[39m\n\u001b[0;32m    322\u001b[0m     )\n\u001b[1;32m--> 324\u001b[0m \u001b[38;5;28;01mreturn\u001b[39;00m io_open(file, \u001b[38;5;241m*\u001b[39margs, \u001b[38;5;241m*\u001b[39m\u001b[38;5;241m*\u001b[39mkwargs)\n",
      "\u001b[1;31mFileNotFoundError\u001b[0m: [Errno 2] No such file or directory: 'sample.txt'"
     ]
    }
   ],
   "source": [
    "with open(\"sample.txt\",mode='r') as file:\n",
    "    print(file.read())"
   ]
  },
  {
   "cell_type": "code",
   "execution_count": 7,
   "id": "50848261-dfb1-430f-9419-c1e780ee7ef8",
   "metadata": {},
   "outputs": [
    {
     "name": "stdout",
     "output_type": "stream",
     "text": [
      "Hello every one\n"
     ]
    }
   ],
   "source": [
    "with open(\"hi.txt\",mode='r') as file:\n",
    "    print(file.read())"
   ]
  },
  {
   "cell_type": "markdown",
   "id": "ba53477d-fd50-4fb0-a801-fc9c6f1fbf30",
   "metadata": {},
   "source": [
    "# reading file from different location"
   ]
  },
  {
   "cell_type": "code",
   "execution_count": 12,
   "id": "04f0df9f-76df-4d8e-a54a-9e580041fee4",
   "metadata": {},
   "outputs": [
    {
     "name": "stdout",
     "output_type": "stream",
     "text": [
      "hello everyone\n"
     ]
    }
   ],
   "source": [
    "with open (\"C:\\\\Users\\\\burela srilakshmi\\\\Desktop\\\\myfiles\\\\sys.txt\",mode=\"r\") as file:\n",
    "    print(file.read())"
   ]
  },
  {
   "cell_type": "code",
   "execution_count": 13,
   "id": "5b96f29d-f15b-457c-88e0-22d10a720586",
   "metadata": {},
   "outputs": [
    {
     "ename": "SyntaxError",
     "evalue": "unterminated string literal (detected at line 1) (4138952293.py, line 1)",
     "output_type": "error",
     "traceback": [
      "\u001b[1;36m  Cell \u001b[1;32mIn[13], line 1\u001b[1;36m\u001b[0m\n\u001b[1;33m    print('\\')\u001b[0m\n\u001b[1;37m          ^\u001b[0m\n\u001b[1;31mSyntaxError\u001b[0m\u001b[1;31m:\u001b[0m unterminated string literal (detected at line 1)\n"
     ]
    }
   ],
   "source": [
    "print('\\') #because escape symbol"
   ]
  },
  {
   "cell_type": "code",
   "execution_count": 15,
   "id": "b1207e09-b7a3-40eb-941e-b5709d7c8ea9",
   "metadata": {},
   "outputs": [
    {
     "name": "stdout",
     "output_type": "stream",
     "text": [
      "\\\n"
     ]
    }
   ],
   "source": [
    "print('\\\\')"
   ]
  },
  {
   "cell_type": "code",
   "execution_count": 16,
   "id": "d548c2a5-4e74-47b2-8d5a-304d3ef9a529",
   "metadata": {},
   "outputs": [
    {
     "ename": "SyntaxError",
     "evalue": "unterminated string literal (detected at line 1) (2779194834.py, line 1)",
     "output_type": "error",
     "traceback": [
      "\u001b[1;36m  Cell \u001b[1;32mIn[16], line 1\u001b[1;36m\u001b[0m\n\u001b[1;33m    print('\\\\\\')\u001b[0m\n\u001b[1;37m          ^\u001b[0m\n\u001b[1;31mSyntaxError\u001b[0m\u001b[1;31m:\u001b[0m unterminated string literal (detected at line 1)\n"
     ]
    }
   ],
   "source": [
    "print('\\\\\\')"
   ]
  },
  {
   "cell_type": "code",
   "execution_count": 17,
   "id": "53f0aa2d-bb2c-4a92-89ca-694bacce664d",
   "metadata": {},
   "outputs": [
    {
     "name": "stdout",
     "output_type": "stream",
     "text": [
      "\\\\\n"
     ]
    }
   ],
   "source": [
    "print('\\\\\\\\')"
   ]
  },
  {
   "cell_type": "code",
   "execution_count": 18,
   "id": "deda423e-9bf1-49e8-8bc2-72e87d6aab4a",
   "metadata": {},
   "outputs": [
    {
     "name": "stdout",
     "output_type": "stream",
     "text": [
      "hello everyone\n"
     ]
    }
   ],
   "source": [
    "with open (\"C:/Users/burela srilakshmi/Desktop/myfiles/sys.txt\",mode=\"r\") as file:\n",
    "    print(file.read())"
   ]
  },
  {
   "cell_type": "code",
   "execution_count": 19,
   "id": "12f9ddc4-e118-4e50-9abd-a529667a2321",
   "metadata": {},
   "outputs": [
    {
     "name": "stdout",
     "output_type": "stream",
     "text": [
      "hello everyone\n"
     ]
    }
   ],
   "source": [
    "with open (r\"C:\\Users\\burela srilakshmi\\Desktop\\myfiles\\sys.txt\",mode=\"r\") as file:  # r means `rawdata` and second r means `read`\n",
    "    print(file.read())"
   ]
  },
  {
   "cell_type": "code",
   "execution_count": null,
   "id": "175bc453-0fcc-40ed-8ade-f8f8d3921ab1",
   "metadata": {},
   "outputs": [],
   "source": [
    "with open(r\"./myfiles/sys.txt\",mode=\"r\") as file:  # . --> means current directory\n",
    "    print(file.read())\n",
    "\n",
    "with open(r\"../sys.txt\",mode=\"r\") as file:    #..  --> means before file\n",
    "    print(file.read())"
   ]
  },
  {
   "cell_type": "code",
   "execution_count": 16,
   "id": "e5f2ae96-cb99-4ba5-b75b-42d1f90f58b8",
   "metadata": {},
   "outputs": [
    {
     "name": "stdout",
     "output_type": "stream",
     "text": [
      "hi everyone\\n\n",
      "good morning \\n\n",
      "how are you\n"
     ]
    }
   ],
   "source": [
    "with open(r\"./myfiles/sys.txt\",mode=\"r\") as file:   \n",
    "    print(file.read())"
   ]
  },
  {
   "cell_type": "markdown",
   "id": "e79db61b-b681-4cba-b814-8630ded3b013",
   "metadata": {},
   "source": [
    "# read mode\n",
    " . 1.read()\n",
    "    - is used for reading/accessing entire data from the file\n",
    "    \n",
    " . 2.readline()\n",
    "    - is used for accessing first line\n",
    "    \n",
    " . 3.readlines()\n",
    "     - is used for accessing all the line in the list format\n",
    "     \n",
    " . 4.read(len)\n",
    "     - used for accessing no of charecters from the file"
   ]
  },
  {
   "cell_type": "code",
   "execution_count": 51,
   "id": "5191b615-15b5-4339-901d-2f6f558d70eb",
   "metadata": {},
   "outputs": [
    {
     "name": "stdout",
     "output_type": "stream",
     "text": [
      "I am adding new data\n",
      "I am adding new data\n",
      "['I am adding new data']\n",
      "I am ad\n"
     ]
    }
   ],
   "source": [
    "# 1.read()\n",
    "with open(r\"./myfiles/sys.txt\",mode=\"r\") as file:\n",
    "    print(file.read())\n",
    "\n",
    "#2.readline()\n",
    "with open(r\"./myfiles/sys.txt\",mode=\"r\") as file:\n",
    "    print(file.readline())\n",
    "\n",
    "# 3.readlines()\n",
    "with open(r\"./myfiles/sys.txt\",mode=\"r\") as file:\n",
    "    print(file.readlines())\n",
    "\n",
    "# 4.read(len)\n",
    "with open(r\"./myfiles/sys.txt\",mode=\"r\") as file:\n",
    "    print(file.read(7))"
   ]
  },
  {
   "cell_type": "markdown",
   "id": "959b8186-266a-4b34-adcb-6e33d184e8a2",
   "metadata": {},
   "source": [
    "# Write()\n",
    " . write() is used for adding new data in any file"
   ]
  },
  {
   "cell_type": "code",
   "execution_count": 24,
   "id": "0a6963f5-6f2b-46e4-b6f4-eca540bc1dc2",
   "metadata": {},
   "outputs": [],
   "source": [
    "with open(\"./myfiles/sys.txt\",mode=\"w\") as file:\n",
    "    file.write(\"I am adding new data\")\n",
    "\n",
    "with open(\"./myfiles/sys.text\",mode=\"w\") as file:\n",
    "    file.write(\"this is another data\")"
   ]
  },
  {
   "cell_type": "markdown",
   "id": "ac877ed8-8361-436a-999e-e98183ac69ab",
   "metadata": {},
   "source": [
    "### Note1.  write() mode will always ovveride with new data"
   ]
  },
  {
   "cell_type": "code",
   "execution_count": 1,
   "id": "597dd23c-9bd2-4e87-bea3-8b87d51d476b",
   "metadata": {},
   "outputs": [],
   "source": [
    "with open(\"./myfiles/sri.txt\",mode=\"w\") as file:\n",
    "    file.write(\"helloguys\")"
   ]
  },
  {
   "cell_type": "markdown",
   "id": "9b9c93bc-84b6-4b36-8f04-9d89b2460605",
   "metadata": {},
   "source": [
    "### Note2. in write()mode,if the file is already exist it will add the data into that file otherwise it will create new file and add the data if the given file is not available"
   ]
  },
  {
   "cell_type": "markdown",
   "id": "3613490b-d7ea-4f84-af94-782fa159dd3e",
   "metadata": {},
   "source": [
    "### append()"
   ]
  },
  {
   "cell_type": "code",
   "execution_count": 5,
   "id": "c88823bb-b340-4975-951e-90e3bdbc55cc",
   "metadata": {},
   "outputs": [],
   "source": [
    "with open(\"./myfiles/sri.txt\",mode=\"a\") as file:\n",
    "    file.write(\"\\n what are you doing\")"
   ]
  },
  {
   "cell_type": "code",
   "execution_count": 6,
   "id": "1850fab6-4758-4c9e-8142-43595da33dea",
   "metadata": {},
   "outputs": [],
   "source": [
    "with open(\"./myfiles/sri.xlsx\",mode=\"w\") as file:\n",
    "    file.write(\"\\n what are you doing\")"
   ]
  },
  {
   "cell_type": "code",
   "execution_count": 7,
   "id": "27e75ba6-f658-4ac8-9d0a-f4f098b2647c",
   "metadata": {},
   "outputs": [],
   "source": [
    "with open(\"./myfiles/sri.csv\",mode=\"w\") as file:\n",
    "    file.write(\"\\n what are you doing\")"
   ]
  },
  {
   "cell_type": "code",
   "execution_count": 8,
   "id": "64b18e74-8e89-4e8b-a608-b980d667d331",
   "metadata": {},
   "outputs": [],
   "source": [
    "with open(\"./myfiles/sri.csv\",mode=\"w\") as file:\n",
    "    file.write(\"\"\"name,age,salary\\n\n",
    "    ram,20,40k\\n\n",
    "    seetha,25,50k\"\"\")"
   ]
  },
  {
   "cell_type": "code",
   "execution_count": 6,
   "id": "b98e02ba-d9c6-4d85-9480-276e81d6e000",
   "metadata": {},
   "outputs": [
    {
     "name": "stdout",
     "output_type": "stream",
     "text": [
      "something\n"
     ]
    }
   ],
   "source": [
    "with open(\"./myfiles/sri.txt\",mode='w+') as file:\n",
    "    file.write(\"something\")\n",
    "    file.seek(0)    # seek() method is used to moving cursour and if we are not giving anything the cursior in end position\n",
    "    print(file.read())"
   ]
  },
  {
   "cell_type": "code",
   "execution_count": 3,
   "id": "b72b3728-152b-402b-8551-f31a23a12d9a",
   "metadata": {},
   "outputs": [
    {
     "name": "stdout",
     "output_type": "stream",
     "text": [
      "None\n"
     ]
    }
   ],
   "source": [
    "list=[1,2,3,4]\n",
    "f=list.insert(0,list.pop())\n",
    "print(f)"
   ]
  },
  {
   "cell_type": "code",
   "execution_count": 8,
   "id": "002bceae-2003-463c-8aef-1b1d3ffdfcf2",
   "metadata": {},
   "outputs": [
    {
     "name": "stdin",
     "output_type": "stream",
     "text": [
      " 3\n"
     ]
    },
    {
     "name": "stdout",
     "output_type": "stream",
     "text": [
      "[3, 4, 5, 1, 2]\n"
     ]
    }
   ],
   "source": [
    "list=[1,2,3,4,5]\n",
    "n=int(input())\n",
    "n=n%len(list)\n",
    "list.extend(list[:n-1])\n",
    "del list[:n-1]\n",
    "print(list)"
   ]
  },
  {
   "cell_type": "code",
   "execution_count": 1,
   "id": "84a8d725-fd31-49a9-b6d8-5081b12b68ac",
   "metadata": {},
   "outputs": [
    {
     "name": "stdout",
     "output_type": "stream",
     "text": [
      "This is ram's class\n"
     ]
    }
   ],
   "source": [
    "text = \"ThisIsRam'sClass\"\n",
    "\n",
    "result = \"\"\n",
    "for i, word in enumerate(text):\n",
    "    if word.isupper() and i != 0:\n",
    "        result += \" \" + word\n",
    "    else:\n",
    "        result += word\n",
    "\n",
    "output = result.lower().capitalize()\n",
    "\n",
    "print(output)"
   ]
  },
  {
   "cell_type": "code",
   "execution_count": 11,
   "id": "ecabc763-fdc9-47d9-9301-77fbe85716ef",
   "metadata": {},
   "outputs": [
    {
     "name": "stdout",
     "output_type": "stream",
     "text": [
      "[3, 4, 5, 1, 2]\n"
     ]
    }
   ],
   "source": [
    "list=[1,2,3,4,5]\n",
    "n=3\n",
    "rotate=list[-n:]+list[:-n]\n",
    "print(rotate)"
   ]
  },
  {
   "cell_type": "code",
   "execution_count": 1,
   "id": "2ba33956-aa9a-4138-b7f6-312d16da4b23",
   "metadata": {},
   "outputs": [],
   "source": [
    "f=open(\"hi.txt\",'w')"
   ]
  },
  {
   "cell_type": "code",
   "execution_count": 2,
   "id": "bbf45944-6c5e-4246-95c1-06809a84c2b3",
   "metadata": {},
   "outputs": [
    {
     "name": "stdout",
     "output_type": "stream",
     "text": [
      "hi.txt\n"
     ]
    }
   ],
   "source": [
    "print(f.name)"
   ]
  },
  {
   "cell_type": "code",
   "execution_count": 3,
   "id": "f338af3f-149e-41e9-a777-0c57f6c963aa",
   "metadata": {},
   "outputs": [
    {
     "name": "stdout",
     "output_type": "stream",
     "text": [
      "w\n"
     ]
    }
   ],
   "source": [
    "print(f.mode)"
   ]
  },
  {
   "cell_type": "code",
   "execution_count": 4,
   "id": "9f1eff5b-74f8-45eb-b92b-4c3335101efb",
   "metadata": {},
   "outputs": [
    {
     "name": "stdout",
     "output_type": "stream",
     "text": [
      "False\n"
     ]
    }
   ],
   "source": [
    "print(f.readable())"
   ]
  },
  {
   "cell_type": "code",
   "execution_count": 5,
   "id": "f69b5105-8c4a-4102-aa83-d28ec77f1e10",
   "metadata": {},
   "outputs": [
    {
     "ename": "AttributeError",
     "evalue": "'_io.TextIOWrapper' object has no attribute 'writabel'",
     "output_type": "error",
     "traceback": [
      "\u001b[1;31m---------------------------------------------------------------------------\u001b[0m",
      "\u001b[1;31mAttributeError\u001b[0m                            Traceback (most recent call last)",
      "Cell \u001b[1;32mIn[5], line 1\u001b[0m\n\u001b[1;32m----> 1\u001b[0m \u001b[38;5;28mprint\u001b[39m(f\u001b[38;5;241m.\u001b[39mwritabel())\n",
      "\u001b[1;31mAttributeError\u001b[0m: '_io.TextIOWrapper' object has no attribute 'writabel'"
     ]
    }
   ],
   "source": [
    "print(f.writabel())"
   ]
  },
  {
   "cell_type": "code",
   "execution_count": 6,
   "id": "f5318a31-d93e-4553-9226-f2b903e26a29",
   "metadata": {},
   "outputs": [
    {
     "name": "stdout",
     "output_type": "stream",
     "text": [
      "False\n"
     ]
    }
   ],
   "source": [
    "print(f.closed)"
   ]
  },
  {
   "cell_type": "code",
   "execution_count": 7,
   "id": "a43c58df-08cc-4971-801f-7ba276c76d93",
   "metadata": {},
   "outputs": [],
   "source": [
    "f.close()"
   ]
  },
  {
   "cell_type": "code",
   "execution_count": 8,
   "id": "33f43010-af89-436a-a51d-140589742861",
   "metadata": {},
   "outputs": [
    {
     "name": "stdout",
     "output_type": "stream",
     "text": [
      "True\n"
     ]
    }
   ],
   "source": [
    "print(f.closed)"
   ]
  },
  {
   "cell_type": "code",
   "execution_count": 25,
   "id": "4f23191a-a6ce-4f86-97a5-9071531dccfc",
   "metadata": {},
   "outputs": [],
   "source": [
    "f=open(\"hi.txt\",\"w\")"
   ]
  },
  {
   "cell_type": "code",
   "execution_count": 26,
   "id": "bf3f6894-95ca-45ae-818c-a485db63f837",
   "metadata": {},
   "outputs": [
    {
     "name": "stdout",
     "output_type": "stream",
     "text": [
      "Data wriiten to the file successfully\n"
     ]
    }
   ],
   "source": [
    "f.write(\"srilakshmi\\n\")\n",
    "f.write(\"software\\n\")\n",
    "f.write(\"solutions\\n\")\n",
    "print(\"Data wriiten to the file successfully\")\n",
    "f.close()"
   ]
  },
  {
   "cell_type": "code",
   "execution_count": 30,
   "id": "93c69c9e-9f7a-47c9-9819-1fbf6f986cd7",
   "metadata": {},
   "outputs": [],
   "source": [
    "f=open(\"hi.txt\",\"a\")"
   ]
  },
  {
   "cell_type": "code",
   "execution_count": 33,
   "id": "5ece9eb1-7618-40c4-a9e9-f53dc46f9869",
   "metadata": {},
   "outputs": [
    {
     "name": "stdout",
     "output_type": "stream",
     "text": [
      "list of lines written to the file successfully\n"
     ]
    }
   ],
   "source": [
    "f=open(\"hi.txt\",'a')\n",
    "list=[\"sunny\\n\",\"bunny\\n\",\"vinny\\n\",\"chinny\\n\"]\n",
    "f.writelines(list)\n",
    "print('list of lines written to the file successfully')"
   ]
  },
  {
   "cell_type": "code",
   "execution_count": 34,
   "id": "e89a3fbf-6a98-4d06-bfd6-9cc9736eca1f",
   "metadata": {},
   "outputs": [],
   "source": [
    "with open(\"hi.txt\",mode='a') as file:\n",
    "    file.write(\"hello gyus \\n what are you doing\")"
   ]
  },
  {
   "cell_type": "code",
   "execution_count": 41,
   "id": "a1846ca9-e7aa-45ac-963a-0d707a248161",
   "metadata": {},
   "outputs": [
    {
     "name": "stdout",
     "output_type": "stream",
     "text": [
      "sunny\n",
      "bunn\n"
     ]
    }
   ],
   "source": [
    "f=open(\"hi.txt\",'r')\n",
    "data=f.read(10)\n",
    "print(data)"
   ]
  },
  {
   "cell_type": "code",
   "execution_count": 42,
   "id": "3e0b15df-bfb8-4abd-a661-10421b8e130b",
   "metadata": {},
   "outputs": [
    {
     "name": "stdout",
     "output_type": "stream",
     "text": [
      "11\n"
     ]
    }
   ],
   "source": [
    "print(f.tell())"
   ]
  },
  {
   "cell_type": "code",
   "execution_count": 10,
   "id": "6346bf47-858c-434d-9bf1-2653d78faab8",
   "metadata": {
    "collapsed": true,
    "jupyter": {
     "outputs_hidden": true
    }
   },
   "outputs": [
    {
     "name": "stdout",
     "output_type": "stream",
     "text": [
      "b'\\xff\\xd8\\xff\\xe0\\x00\\x10JFIF\\x00\\x01\\x01\\x00\\x00\\x01\\x00\\x01\\x00\\x00\\xff\\xdb\\x00\\x84\\x00\\t\\x06\\x07\\x08\\x07\\x06\\t\\x08\\x07\\x08\\n\\n\\t\\x0b\\r\\x16\\x0f\\r\\x0c\\x0c\\r\\x1b\\x14\\x15\\x10\\x16 \\x1d\"\" \\x1d\\x1f\\x1f$(4,$&1\\'\\x1f\\x1f-=-157:::#+?D?8C49:7\\x01\\n\\n\\n\\r\\x0c\\r\\x1a\\x0f\\x0f\\x1a7%\\x1f%77777777777777777777777777777777777777777777777777\\xff\\xc0\\x00\\x11\\x08\\x00\\x94\\x00\\xa9\\x03\\x01\\x11\\x00\\x02\\x11\\x01\\x03\\x11\\x01\\xff\\xc4\\x00\\x1b\\x00\\x01\\x00\\x02\\x03\\x01\\x01\\x00\\x00\\x00\\x00\\x00\\x00\\x00\\x00\\x00\\x00\\x00\\x05\\x06\\x01\\x03\\x04\\x02\\x07\\xff\\xc4\\x00>\\x10\\x00\\x01\\x03\\x03\\x02\\x03\\x04\\x08\\x02\\x06\\x0b\\x00\\x00\\x00\\x00\\x00\\x01\\x00\\x02\\x03\\x04\\x05\\x11\\x12!\\x061A\\x13Qaq\\x07\\x14\"2\\x81\\xa1\\xb1\\xc1R\\x91\\x15#rs\\xc2\\xd1\\x163BCDSb\\x82\\xa2\\xd2\\xe1\\xff\\xc4\\x00\\x1b\\x01\\x01\\x00\\x02\\x03\\x01\\x01\\x00\\x00\\x00\\x00\\x00\\x00\\x00\\x00\\x00\\x00\\x00\\x01\\x05\\x02\\x03\\x06\\x04\\x07\\xff\\xc4\\x001\\x11\\x01\\x00\\x02\\x02\\x01\\x03\\x02\\x04\\x03\\x07\\x05\\x00\\x00\\x00\\x00\\x00\\x00\\x01\\x02\\x03\\x11\\x04\\x05\\x12!1A\\x13\\x14\"Q2Ra\\x06\\x15#B\\x91\\xb1\\xf0q\\x81\\xa1\\xc1\\xd1\\xff\\xda\\x00\\x0c\\x03\\x01\\x00\\x02\\x11\\x03\\x11\\x00?\\x00\\xa7\\xab\\'0      )\\x04\\x04\\x04\\x04\\x04\\x05\\x00\\x80\\x80\\x80\\x80\\x80\\x80\\x80\\x80\\x80\\x80\\x80\\x80\\x80\\x80\\x80\\x83\\\\\\xf3G\\x04fI\\x9e\\x18\\xd1\\xd4\\xa8\\xb5\\xa2\\xb1\\xe5\\xb3\\x1e;d\\x9dV\\x10\\xf2_\\x88\\x9b\\xf5q\\x0e\\xc8\\x1d\\xf2}\\xa2;\\xd7\\x9f\\xe6\\x165\\xe9\\xd1\\xdb\\xf5O\\x94\\xed5\\x07\\x10VRGWEc\\x96jyF\\xa8\\xde\\xc9Zu\\x0f,\\xacg\\x97\\x11:e^\\x93i\\x8d\\xed\\x13=\\xdeJY\\xe4\\xa7\\xab\\xa2\\x92\\x19\\xe2:^\\xc2\\xe1\\x96\\x95\\x94r?F\\x13\\xd3}\\xa2]T7\\x08k[\\xece\\xaf\\x1c\\xd8\\xee\\x7f\\xfa\\xb7S$Y\\xe4\\xcd\\xc5\\xbe\\'Z\\xd8\\xf3\\n\\x01\\x01\\x01\\x01\\x01\\x01\\x01\\x01\\x01\\x01\\x01\\x01\\x01\\x01\\x01H\\x91\\x8f\\x82\\xff\\x00L\\xdb\\xa1\\xaf\\xac\\xad}+\\x1e\\xed0F\\xc8\\xfbGL;\\xc0\\xf8~[\\x9d\\x95n|\\xf17\\xd4:>\\x9f\\xc3\\x9a\\xe2\\xdc\\xcf\\x99MVpE\\xb9\\x9c8\\xea&[\\xe7\\x81\\xc0\\xf6\\x82\\xb8\\xb9\\xb2\\xc8\\x1d\\x8en\\x03\\x9b{\\xda\\xdc\\xed\\xc9yc/\\xd4\\xb3\\x9e<Eu\\xaf/v\\x0e\\x1d\\xe2\\x0bo\\x03]-\\xb1V@j*\\t}\\x11\\x8a\\\\\\x86\\xb4\\xe3V\\x1d\\xb63\\xbf\\x96r\\xa2\\xd7\\xac\\xda\\nc\\xbdqLm]\\xe1\\x9e\\x04\\xa2\\xd7\\xda\\xf1\\x14\\xd3;I9\\xa6\\xa3\\x8d\\xf2\\x8f\\xf7H\\xc0G\\xc1\\xa7\\xe2\\xb6[\\'\\xb5Z\\xe9\\xc7\\xf3\\xf5\\xa2o|%SK\\xc4\\x11Af\\x12MEW(\\x14\\xd3\\xb5\\xa5\\xdd\\x9eH\\xcb_\\xd4\\x16\\xf8\\xe3e\\x9d2x\\xdbVL;\\x9e\\xddn\\x1e\\x98\\xf9\\xe9\\xab\\xa7\\xb6\\xdcX#\\xae\\xa7v\\x97\\x00r\\x1f\\xe2\\x0f\\x96\\xeb\\xdd\\x87,^\\x14\\\\\\xce\\x1c\\xe2\\xb6\\xe3\\xd1\\xd0\\xb7\\xab\\xc4\\x04\\x04\\x04\\x04\\x04\\x04\\x04\\x04\\x04\\x04\\x05 \\x83m-4\\xf5\\x93\\xb6\\x9e\\x92\\x17\\xcd3\\xb91\\x83\\xa7y\\xee\\x1e+]\\xf2V\\x91\\xbb7\\xe0\\xe3\\xe4\\xcfmR\\x12\\x17\\xde\\x17\\xba\\xda\\xacUW*\\x83F\\xc6\\xc2\\xcdE\\x9d\\xa1s\\xb7 wc\\xafz\\xf2O2\\xb6\\xf1U\\xb5:E\\xa9\\x1d\\xf7\\x9fD \\xf4\\x81|\\xa5\\xa9\\x80\\xeb\\xa31\\xe8\\r\\x8eSM\\xee\\xb3\\xbb\\x9fE\\xa2q\\xc4\\xac#\\x91x\\xf4KRzP\\xbbGP!\\xab\\xa5\\x8aG\\xb4\\xe5\\xe26\\xe9\\xcbF\\xe7\\x1b\\xe7\\x96J\\xc2pV[#\\x97}\\xf9v]\\xbd \\xd2GM\\xea6z:\\xb2\\xe9\\xa7.1\\xd57\\xb1\\x02>e\\x8d\\xc6N\\t\\xcf\\xc0\\x90\\xb1\\xae\\x19\\xdf\\x96w\\xe4\\xf8\\xd4CE\\x07\\xa5y\\x9e\\xfe\\xc3\\xf4\\x1c\\x0c\\ro\\xba\\xc9\\xc8\\xe5\\xd0\\r?%3\\x83~\\xe8\\xf9\\xb9\\xfb%l\\xdc}n\\xb8\\\\D\\xba=Gv\\xb2I\\x1e\\xfc1\\xc0\\x9ft\\x93\\xd7bA\\xff\\x00I\\x1dTN)\\x88e^LZ\\xd1\\xb8@zI\\x14\\xb4\\xdcaIs\\x1aj)j\\xa9\\x83\\x9cbp9sr\\xd2A\\xef\\x19i\\x0b<\\x13h\\xabG2\\x95\\xb5\\xbf\\xd5\\x1fI7\\xacSG/W\\xb7\\x7f>\\xaa\\xda\\x93\\xdd]\\xb9l\\xd8\\xe6\\x99&\\xad\\xaaZ\\x84\\x04\\x04\\x04\\x04\\x04\\x04\\x04\\x04\\x04\\x05#\\x0epkK\\x8f 2Sz\\xf2\\x98\\x8d\\xce\\x9fT\\xe1kK-\\x16\\x98\\xc6\\x91\\xebS\\xb4>w\\xf5\\'\\x1e\\xef\\x90\\xfej\\x87>Y\\xbd\\xbc\\xbb^\\x1f\\x1e0\\xe2\\x88g\\x8amO\\xbeXk-\\xac\\x94D\\xfa\\x86\\x80\\xd7\\xb8l\\x08 \\x8c\\xf8l\\xb0\\xa5\\xa2\\xb3\\xb6\\xfc\\xb4\\xef\\xafl>Y/\\xa2\\xfe%\\xf5~\\xc4\\x1a\\tZ\\x0eZ\\xe19\\x04~azc5^)\\xe2\\xe4\\xdf\\x86\\xebw\\xa3\\xee$\\x8e\\xe1Jj\\xa9\\xe9C\\x1a4>^\\xdc\\x1c4\\xf38\\xeb\\xb6TNZ\\xe8\\xaf\\x1b&\\xe3p\\xb1zW\\xe1\\xdb\\xc5\\xeakuE\\xa2\\x9c\\xd4z\\xb8{\\\\\\xd6\\xb8\\x0778 \\xee|\\x16\\x18o\\x11\\xea\\xdd\\xc8\\xc3y\\xd6\\xa1\\xf3\\xfa\\xbe\\x11\\xe2F\\xce\\xc9\\xe3\\xb2\\xd5\\xb6L\\x02\\xec\\x00}\\xaf\\x0c\\x15\\xbf\\xbe\\xbfw\\x97\\xe0\\xe4\\xfb-\\x1c\\x07\\xc2RVWT\\x8b\\xe5\\x96X\\xe9\\\\5\\xbcN4\\xb4\\xbf\\x18n\\x9e\\xbd^\\xb5\\xe5\\xc9\\xa8\\xf0\\xdb\\x83\\x0e\\xe7\\xeb\\x84\\xe5\\xe3\\xd1\\xad\\xaa\\xb6\\xa6\\x18mqIA\\x1b\\x1d\\xaei\\x83\\x8b\\xb5\\x02=\\xd6\\x82y\\xf5\\xcf\\xd7\\xa6\\x15\\xcd1\\xe6[\\xaf\\xc5\\xac\\xcf\\xd3\\xe1\\xae\\xf5\\xc1\\x10Yl\\xe6\\xa2\\xd54\\xf2\\xb2\\x9f\\xda\\x9a9\\x88$\\xb7\\xab\\x81\\x03\\xa7</G\\x1f\\x95=\\xda\\x95oQ\\xe9\\xd5\\x9a|Jz\\xaa\\xddU\\xa3\\x9a\\x14\\x02\\x02\\x02\\x02\\x02\\x02\\x02\\x02\\x02\\x02\\x91\\xe6_\\xea\\x9f\\xb6v\\xe5\\xde\\xb1\\xb7\\xa4\\xb3\\xc7:\\xbcK\\xedl\\x91\\xb3G\\x14\\xb1\\x90X\\xf6\\x074\\x8e\\xe2\\x17=oWyI\\x89\\x88eb\\xcd\\x90\\x89dc\\xa2\\x07\\x8a\\x1e\\x02\\x14\\x87\\x9a\\x808\\xea\\x84\\xa3\\xef\\xd5\\x0c\\xa6\\xb2WK)\\xf6D\\x0f\\xdb<\\xc9\\x18\\xc2\\xcf\\x1cn\\xd1\\r9\\xef\\x15\\xc5i\\x9f\\xb3\\xe4M\\x044\\x03\\xcc\\x0c.\\x86\\x1c\\x1c\\xb2\\x88\\x10\\x10\\x10\\x10\\x10\\x10\\x10\\x10\\x10\\x10<\\xd0^\\xf8\\x1f\\x88\"4\\xd1\\xdakd\\x0c\\x99\\x9bR\\xb9\\xc7\\x02A\\xf8|\\xc7\\xccy*\\x9eV\\t\\xac\\xee=\\x1dWK\\xe6\\xfcZF;z\\xc2\\xe1\\x82\\x0e\\xeb\\xc5\\xa5\\xc4N\\xde${\\xa3\\x00\\xb5\\x8e~\\xfe\\xd6\\x91\\x92\\x07~:\\xa4\\x13:x3H\\xf3\\x88`p\\x1f\\x8eod|\\x07?\\xa2xF\\xe6^\\xa3l\\x9a\\xf5K.\\xae\\xe6\\xb5\\xa04}\\xfei\\xe11\\r\\xaa\\x12\\xc1A]\\xbd\\xde\\xdfCZ\\xc6P\\xca%\\x93\\x1f\\xad\\x8aA\\x964t\\xdf\\x98\\'\\xe2\\xb3\\xf0\\xdb\\x83\\x8f|\\xd6\\xfa|B\\xab\\xc5\\x17\\xab\\x95k\\xe2\\xa3\\xab\\x8e(i\\xcb[3\\x1b\\x1eH\\x90\\xf7\\x93\\xe1\\xdc\\xbd\\xdc*Rgj\\x1e\\xbd\\xf1\\xf0\\xc4W\\x7fO\\xf9\\xe1\\x01\\xc9Z9Q@         )\\x04\\xf7\\x1d6\\xb8\\x05ED\\xaf{A\\x8e!\\xa4g\\xf1\\x1d\\xcf\\xcb\\x1f\\x9a\\xab\\xe7\\xe5\\x9f\\x15\\x87i\\xfb+\\xc0\\x8bE\\xf3\\xde?E\\x9e\\x8a\\xebr\\xa1hd5FH\\xc7(\\xea\\x07h\\x07\\x91\\xe7\\xf3U\\xfd\\xdfwM\\x93\\xa6R\\xdei:w\\xb3\\x8a\\xeb\\x00\\xc4\\xb6\\xf8\\x1f\\x8e\\xad\\x9c\\x8f\\x96\\x94\\xdc<\\xf3\\xd3r\\xc7\\xa4\\xb73\\x8b\\xbf\\xce\\xb7J\\xdf\\xd9\\x90\\x1f\\xae\\x14\\xf8k\\xb7\\x07<{77\\x8b(\\xff\\x00\\xb5MT\\xdf6\\xb7\\xf9\\xa6\\xa1\\x87\\xcag\\xfc\\xaf2ql?\\xddQ\\xd4;\\xcfH\\xfb\\xa7\\x84\\xc7\\x0b<\\xfb\"\\xeb/\\xd7\\x1a\\xb1\\xa5\\x85\\xb4\\xac=Xu;\\x1ex\\xc0\\xfc\\x94n\\x1e\\xbc]7\\xde\\xf2\\x8dcCw\\xdc\\x9c\\xe4\\x92s\\x95\\x84\\xeeVx\\xf1\\xd7\\x1cj!\\x8b\\x859\\xae\\xb5K\\x1bq\\xdbS\\x9e\\xda#\\xdd\\xbe\\x08\\xf9\\x8f\\x9a\\xdf\\x83$\\xd2v\\xaa\\xea\\xbc*\\xf21\\xf6\\xccz\\xff\\x00\\x7feq\\xae\\x0e`p\\xeb\\xba\\xbe\\xac\\xf7DK\\xe5\\xb9q\\xce;\\xcd\\'\\xd6\\x19R\\xc0@@@@@@@@@@R%,\\xaf`\\xa4\\x0c\\x07\\x12e\\xc5\\xd9\\x18\\xc9\\xcf\\xcf\\xa2\\xa0\\xe4\\xc5\\xbe$\\xcc\\xbe\\xa7\\xd0\\xaf\\x82xt\\xae?oWe9%\\x8e$\\xe72;\\xe4HZ%m\\x8f\\xce\\xe7\\xf5lP\\xd8\"D\\x04\\x19\\xc2!\\xcfG!\\x929\\t9\\xc4\\xae\\x1b\\xf4\\x19Y[\\xc4\\xb4`\\xbc\\xda\\xb3?\\xabd\\xd5\\x02\\x9e7\\x97;KKK\\\\|\\x0fD\\xa4M\\xbd\\x13\\x9f&<t\\xee\\xc9\\xe9\\n\\xe399\\xdaKu9\\xce\\x00\\xf4\\xc9%t\\x18k5\\xc7\\x11/\\x92s\\xf2\\xd7/&\\xf7\\xa7\\xa4\\xcc\\xbd-\\x8f\\x18\\x80\\x80\\x80\\x80\\x80\\x80\\x80\\x80\\x80\\x80\\x82\\xdd\\x13\\xa9c\\xf4s\\x1dD\\xac\\x06h\\xa6\\x90\\xc0G3)y\\x1as\\xdcz\\xf8*\\x8c\\xd5\\x9bg\\x9a\\xba\\xfe\\x17\"8\\xdcj\\xe5\\x89\\xf4GP;]\\x1cO\\r-\\x0fn\\xbc\\x1e\\x999^+\\xc6\\xad\\xa7o\\xc6\\xb7~\\x1a\\xdf\\xee\\xde\\xb1o\\x10\\x10\\x11-\\xb0D&\\x940\\x9c\\x0c\\x12Op\\x03?e1\\x1b\\x96\\xbc\\xb7\\xec\\xae\\xd5zz\\x9a\\x88\\xbbN\\xcaP\\xd6\\xbeG8\\x82\\xdc\\xe3s\\xc9Z\\xd3\\x89K\\xd6&\\\\\\x06O\\xda\\x0c\\xfc\\\\\\xb91\\xd27\\xe6Se\\x94\\x93\\xf0Q\\x9c\\xc4\\xd7\\xd7CZ\\xc8\\xa5\\x99\\xdb\\x9cg \\x8e\\xec\\x829,)\\x8e1\\xf2\"\\xbe\\xcd|\\xaefNW\\nrZ|\\xa0\\xf9l\\xac\\xfd\\xdc\\xc0\\x80\\x80\\x80\\x80\\x80\\x80\\x80\\x80\\x80\\x80\\x83\\x0e8i8\\xce\\x02L\\xea\\x19V\\xbd\\xd3\\x15\\\\x\\x92\\xc5%\\xbf\\x82\\xa9\\xda\\xf9\\xc6\\xaa\\x02\\xe9\\xa7\\x8f\\xa3\\x8b\\xfd\\xec~\\xce\\xa5S\\x8b6\\xf3\\xcc\\xba|\\xdc9\\xf9X\\xa7\\xd9\\x1fL1M\\x08\\xeec~\\x8b\\xc3\\x7f\\xc5.\\xff\\x00\\x8f\\x11\\x18\\xab\\x11\\xf6\\x86\\xd5\\x8bs\\x08\\x08\\x08\\x8d\\xb7\\xd3m\\xdb\\xbf\\xf0\\xc2\\xf3\\xf2\\xc2\\xca\\x9e\\xaf7.~\\x8d*\\x14\\xc7\\xf5\\x11\\x9e\\xf1\\x9f\\xcdt8\\xe3T\\x88|\\x8b\\x93n\\xeeE\\xa7\\xef3\\xfd\\xd7\\x9b\\x1c\\xf6\\'\\xf0\\x84\\xd452\\xc0\\xc3\\xea\\xcd\\x9a\\xa4\\x97\\x80\\xe7=\\xc39\\x1du\\x03\\xb6:l\\xaa\\xb2FO\\x8d\\xdc\\xe9q|\\x08\\xe3v\\xcf\\xd9Int\\x8d^\\xf6\\x06U\\xbcz9[~)\\xd3*X\\x88\\x08\\x08\\x08\\x08\\x08\\x08\\x08\\x08\\nF\\x08\\x05\\xa4\\x11\\x90y\\x85\\x13\\x1b\\xf0\\x98\\x9d;.w{\\x95\\xc2\\x93\\xb0\\xac\\xab|\\xb1\\x88\\x0c8\\xd2\\xd6\\xe5\\x87\\x04\\xe7m\\xc9\\xd27\\xf0\\xf1^_\\x94\\xa4D\\xcc,\\xbfy\\xe6\\xb4\\xc4[Z[\\xff\\x00\\xa2\\xf2\\x9ax\\xa5\\xb5\\xd5\\x8e\\xc9\\xcc\\x05\\xb1N\\x0f\\xb2\\x08\\x1c\\x9c9\\x8f\\x87\\xc5r\\x97\\xea1L\\x93L\\x95\\xfe\\x8e\\xe3\\x8d\\xcf\\xcbZG\\xbc9\\xa4\\xb1\\xde\\xe3\\xff\\x00\\x0b\\x0c\\xbf\\xbb\\x98\\x7f\\x16\\x16\\xc8\\xe7\\xf1\\xe7\\xdf_\\xec\\xf6\\xc7S\\x8fz\\xb4\\x1bm\\xe5\\xbe\\xfd\\xa6q\\xe5$g\\xe8\\xe5\\xb3\\xe6\\xf8\\xdf\\x9e?\\xe7\\xff\\x00\\x19\\xfe\\xf3\\xa7\\xbcH-\\xd7r6\\xb5T\\x1f\\x8b?\\xec\\xa7\\xe6x\\xff\\x00\\x9f\\xfc\\xfe\\x87\\xef<\\x7fg\\xb6ZoO\\xe5l{\\x7fnh\\xc7\\xf1,\\'\\x9b\\xc6\\x8f\\xe7\\'\\xa9W\\xf2\\xc9Ya\\xbb\\x8b}d\\x93\\x18)\\xd8\\xc8\\x1e\\xe7\\x16\\xbc\\xbd\\xc4\\x01\\xcb\\x18\\x1fT\\xa7?\\x0c\\xda+Y\\xdb\\xc5\\xca\\xea\\x13|s\\xdb\\x1aTX0\\xc6\\x81\\xd0\\x0c.\\xbe=\\x1f2\\xb4\\xee\\xd3,\\xf5\\x07\\xa8\\xe5\\xe0\\x86\\xe4D\\x08\\x08\\x08\\x08\\x08\\x08\\x08\\x08\\x08\\x08\\x08\\x08\\x1eh>\\x9f\\xc1\\xd5\\x1e\\xb3\\xc3\\x94NvK\\xd8\\xd3\\x13\\xb2z\\xb0\\x96\\xfd\\x82\\xf9\\xf7W\\xc7\\xd9\\xcb\\xb3\\xb7\\xe0\\xdf\\xbf\\x8f[&\\x95c\\xd8\\x11\\x90GxOtK\\x8a\\xd0I\\xa1`q\\xce\\x97\\xbd\\xbb\\xf88\\x8f\\xb2\\xdf\\xc9\\x8f\\xe2x\\xfbC\\x1aN\\xe1\\xda\\xbc\\xec\\xdc\\xb7\\x8d\\xacwBv\\x1e\\xa7\\'?%\\xec\\xe1G\\xf1?\\xa7\\xf7h\\xcf\\xf8\\x1f\\x1ff\\xcch\\xf0\\x0b\\xe9P\\xe1\\'\\xd6YP\\x81\\x01\\x01\\x01\\x01\\x01\\x01\\x01\\x01\\x01\\x01\\x01\\x01\\x01\\x0f\\t\\x8b\\x0f\\x10\\xd6Y\\x81\\x82\\x08\\xe1\\x9a\\te\\x05\\xcc\\x939a8\\x04\\x82\\x08\\xfc\\x95WP\\xe9x\\xf93\\xdf>\\xab~\\x9d\\xcf\\xb6)\\x8cs\\xe9+\\xc5\\xe2\\xa6\\xf5o\\xb7OYU\\t\\xa7lq\\x924\\xd1\\x17\\r]\\x01wh@\\xdf\\xc1T\\xd3\\xa4a\\xdcD\\xc2\\xf6\\xdc\\xa8\\xadfv\\xa2\\xcb\\xc4\\xd7\\xb9G\\xb7p{\\x7ft\\xc6\\xb7\\xed\\x95m\\x8f\\xa2\\xf1)\\xfc\\xaa\\x0c\\x9d_\\x913\\xe2KO\\x11\\xdc\\xedZ\\xdb\\x14\\x8c\\x9a9\\x1e^\\xe6T\\x02}\\xa3\\xcc\\x82\\x0e\\xd9\\xeeQ\\xcb\\xe8\\xd89\\x1f\\xa4\\xa7\\x8f\\xd5\\xf2\\xe3\\xfc^V;\\x0f\\x14W\\xdd\\xab\\xfdI\\xf1P\\xd3\\xc8\\xe6\\x17F\\xe3\\xad\\xc1\\xe4s\\x1ex\\xdf\\xe0UN~\\x83LU\\xdfr\\xe3\\x89\\xd4\\xbef\\xdd\\xbe\\x8d\\x1cs[t\\xa5\\x8e\\n\\t\\xe7\\xa60\\xd5\\xc7!\\x93\\xb1\\x89\\xcd$4\\xb4c%\\xc7oizzoL\\xc1\\\\\\x9d\\xde\\xf0\\xd5\\xd5y9p\\xe3\\x88\\x8fu5t\\x8eXP\\x08\\x08\\x08\\x08\\x08\\x08\\x08\\x08\\x08\\x08\\x08\\x08\\x08\\x086S\\xd2\\xcd[(\\xa5\\xa5\\x85\\xf3L\\xf0p\\xc6\\xfdOp\\xf1+G#\\x91\\x8b\\x05&\\xd9\\'OG\\x1f\\x06L\\xd7\\x88\\xa4>\\x8f\\xc53^k86\\x0bc\\xe12\\xd4S\\xe85S\\xb1\\xe3\\x13\\xb5\\x83\\x9b@\\xdf$\\xe9$x\\x1e\\xf0\\xa90un5\\xb2Dm\\xd0\\xf28\\x99g\\x14\\xc5_3\\x04\\x11\\x90r;\\xd7E\\x13\\xb8\\xdb\\x97\\x98\\x98\\x9dK*P\\xdbI3i\\xab)\\xa7|BV\\xc73\\x1cc-\\xd5\\xa8gq\\x8e\\xbbl\\xb4\\xe6\\x8a\\xf6N\\xe7\\xc3\\xd3\\xc4\\xb5\\xa34in\\xf4\\x99\\x05\\xb0Oj\\xab\\xb22.\\xc5\\xd0\\xcc\\xd9\\x84\\'h\\xce\\xa8\\xf1\\xa8t98^^>JD\\xf8\\xf7Y\\xf5\\n\\xda\\xd8\\xb7\\xf6S\\x15\\x82\\x8cP\\x08\\x08\\x08\\x08\\x08\\x08\\x08\\x08\\x08\\x08\\x08\\x08\\x08\\nD\\x85\\xba\\xf7q\\xb6S\\xba\\n\\ta\\x89\\x8ev\\xa78\\xc0\\x1c\\xe7\\x1f\\x12y\\xe3\\xa2\\xad\\xe4t\\xcc<\\x9bwd\\x99\\xff\\x00\\xa5\\x96\\x0e\\xa7\\x93\\x05;i\\x10\\xcc\\xf7\\xdb\\xb4\\xfbKq\\xa8\\xc1\\xe8\\xc2\\xd6\\x0f\\xf8\\x80\\x98\\xfaO\\x13\\x1f\\x98\\xaa2u^M\\xfd\\xf4\\x8d\\x00\\r\\x82\\xb1\\x88\\x88\\x8dB\\xbe\\xd6\\x9bN\\xe5\\x94Cm-D\\xb4\\x951T\\xd3\\xb9\\xad\\x96\\'jasC\\x86q\\xdcV\\x9eF\\n\\xe7\\xc78\\xed\\xe9-\\xd83\\xdb\\x05\\xfb\\xea\\x9e\\x8b\\x8c\\xeb\\xb5\\xbd\\xf5\\x94\\x16\\xea\\x97\\xbd\\x9d\\x9b\\xdc\\x18\\xe6\\x177\\xb8\\xe4\\x9c\\xaakt\\x1aG\\xe0\\xbc\\xc2\\xda:\\xd4\\xcc\\xfdT\\x84E\\xd2\\xaa\\x92\\xb2q-\\x1d\\xb9\\x94\\x19\\x07\\xb4\\x8e9K\\x98OB\\xd0}\\xdf\\xa7\\x91V\\xbcl9\\xb1GnKn\\x1e\\x0eN|9|\\xd6\\xba\\x97\\x1a\\xf5<B\\x02\\x02\\x02\\x02\\x02\\x02\\x02\\x02\\x02\\x02\\x02\\x02\\x02\\x90P\\nA\\x01@)\\x04\\x04\\x05\\x00\\x80\\x80\\x80\\x80\\x80\\x80\\x80\\x80\\x80\\x80\\x80\\x80\\x80\\x80\\x80\\x80\\x80\\x80\\x80\\x80\\x80\\x80\\x80\\x80\\x80\\x80\\x80\\x80\\x83\\xde\\x90\\xb2\\xd3\\x0e\\xe3HM\\x1d\\xc6\\x90\\xa7Gq\\xa4(\\xd1\\xdci\\t\\xa3\\xb8\\xd2\\x13Gq\\xa4&\\x8e\\xe3HM\\x1d\\xc6\\x90\\xa7Gq\\xa4&\\x8e\\xe3HQ\\xa3\\xb8\\xd2\\x13Gq\\xa4&\\x8e\\xe3HM\\x1d\\xc6\\x90\\x9a;\\x8d!4w\\x1aBh\\xee4\\x84\\xd1\\xdci\\t\\xa3\\xb8\\xd2\\x13Gq\\xa4&\\x8e\\xe3HS\\xa3\\xb9\\xff\\xd9'\n"
     ]
    }
   ],
   "source": [
    "img=open(\"shinchan.jpg\",mode=\"rb\")\n",
    "print(img.read())\n",
    "img.close()"
   ]
  },
  {
   "cell_type": "code",
   "execution_count": 11,
   "id": "724e9a07-1ed9-46c4-8443-3b38426ea229",
   "metadata": {},
   "outputs": [],
   "source": [
    "img2=open(\"copy.jpg\",mode=\"wb\")"
   ]
  },
  {
   "cell_type": "code",
   "execution_count": 12,
   "id": "8a6db7d1-5f94-49b1-a28c-141faedf522f",
   "metadata": {},
   "outputs": [],
   "source": [
    "img=open(\"shinchan.jpg\",mode=\"rb\")\n",
    "img2=open(\"copy.jpg\",mode=\"wb\")\n",
    "for i in img:\n",
    "    img2.write(i)\n",
    "img.close()\n",
    "img2.close()\n"
   ]
  },
  {
   "cell_type": "code",
   "execution_count": null,
   "id": "ea73108b-e738-4ea2-b593-7a6a62da3a1f",
   "metadata": {},
   "outputs": [],
   "source": []
  }
 ],
 "metadata": {
  "kernelspec": {
   "display_name": "Python 3 (ipykernel)",
   "language": "python",
   "name": "python3"
  },
  "language_info": {
   "codemirror_mode": {
    "name": "ipython",
    "version": 3
   },
   "file_extension": ".py",
   "mimetype": "text/x-python",
   "name": "python",
   "nbconvert_exporter": "python",
   "pygments_lexer": "ipython3",
   "version": "3.12.7"
  }
 },
 "nbformat": 4,
 "nbformat_minor": 5
}
