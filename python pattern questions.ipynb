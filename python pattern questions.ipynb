{
 "cells": [
  {
   "cell_type": "raw",
   "id": "a8dc756c-38e2-47e2-8aee-ade7bccb5342",
   "metadata": {},
   "source": [
    "#Q1.\n",
    "for i in range(5):\n",
    "    for j in range(5):\n",
    "        print(\"*\",end=\"\")\n",
    "    print()"
   ]
  },
  {
   "cell_type": "code",
   "execution_count": 8,
   "id": "0b683f72-2af0-4668-97cd-9b32147d0730",
   "metadata": {},
   "outputs": [
    {
     "name": "stdout",
     "output_type": "stream",
     "text": [
      "11111\n",
      "22222\n",
      "33333\n",
      "44444\n",
      "55555\n"
     ]
    }
   ],
   "source": [
    "#Q2.\n",
    "for i in range(1,6):\n",
    "    for j in range(1,6):\n",
    "        print(i,end=\"\")\n",
    "    print()"
   ]
  },
  {
   "cell_type": "code",
   "execution_count": 12,
   "id": "e8c17558-a579-4e49-9836-a84646ec6cd0",
   "metadata": {},
   "outputs": [
    {
     "name": "stdout",
     "output_type": "stream",
     "text": [
      "1 2 3 4 5 \n",
      "1 2 3 4 5 \n",
      "1 2 3 4 5 \n",
      "1 2 3 4 5 \n",
      "1 2 3 4 5 \n"
     ]
    }
   ],
   "source": [
    "#Q3.\n",
    "for i in range(1,6):\n",
    "    for j in range(1,6):\n",
    "        print(j,end=\" \")\n",
    "    print()"
   ]
  },
  {
   "cell_type": "code",
   "execution_count": 29,
   "id": "d96d87d4-29db-45f7-bb5b-a500cb43407d",
   "metadata": {},
   "outputs": [
    {
     "name": "stdout",
     "output_type": "stream",
     "text": [
      "H H H H H H H H H H H H H H H H H \n",
      "I I I I I I I I I I I I I I I I I \n",
      "J J J J J J J J J J J J J J J J J \n",
      "K K K K K K K K K K K K K K K K K \n",
      "L L L L L L L L L L L L L L L L L \n",
      "M M M M M M M M M M M M M M M M M \n",
      "N N N N N N N N N N N N N N N N N \n"
     ]
    }
   ],
   "source": [
    "#Q4.\n",
    "for i in range(0,7):\n",
    "    for j in range(0,17):\n",
    "       print(chr(72+i),end=\" \")\n",
    "    print()"
   ]
  },
  {
   "cell_type": "code",
   "execution_count": 36,
   "id": "dc60d7b6-91ff-47e5-b452-010ccea6517c",
   "metadata": {},
   "outputs": [
    {
     "name": "stdout",
     "output_type": "stream",
     "text": [
      "O O O O O O O O O O O O O O \n",
      "P P P P P P P P P P P P P P \n",
      "Q Q Q Q Q Q Q Q Q Q Q Q Q Q \n",
      "R R R R R R R R R R R R R R \n",
      "S S S S S S S S S S S S S S \n",
      "T T T T T T T T T T T T T T \n",
      "U U U U U U U U U U U U U U \n",
      "V V V V V V V V V V V V V V \n",
      "W W W W W W W W W W W W W W \n",
      "X X X X X X X X X X X X X X \n"
     ]
    }
   ],
   "source": [
    "#Q5.\n",
    "for i in range(0,10):\n",
    "    for j in range(0,14):\n",
    "       print(chr(79+i),end=\" \")\n",
    "    print()"
   ]
  },
  {
   "cell_type": "code",
   "execution_count": 37,
   "id": "61295513-6f18-455e-8979-d0881cb3f654",
   "metadata": {},
   "outputs": [
    {
     "name": "stdout",
     "output_type": "stream",
     "text": [
      "PPPPPPPPP\n",
      "QQQQQQQQQ\n",
      "RRRRRRRRR\n",
      "SSSSSSSSS\n",
      "TTTTTTTTT\n",
      "UUUUUUUUU\n",
      "VVVVVVVVV\n",
      "WWWWWWWWW\n",
      "XXXXXXXXX\n"
     ]
    }
   ],
   "source": [
    "#Q6.\n",
    "for i in range(0,9):\n",
    "    for j in range(0,9):\n",
    "       print(chr(80+i),end=\"\")\n",
    "    print()"
   ]
  },
  {
   "cell_type": "code",
   "execution_count": 67,
   "id": "1238a510-6682-4712-b5dd-bd99dc172d3a",
   "metadata": {},
   "outputs": [
    {
     "name": "stdout",
     "output_type": "stream",
     "text": [
      "5 5 5 5 5 \n",
      "4 4 4 4 4 \n",
      "3 3 3 3 3 \n",
      "2 2 2 2 2 \n",
      "1 1 1 1 1 \n"
     ]
    }
   ],
   "source": [
    "#Q7.\n",
    "for i in range(1,6):\n",
    "    for j in range(1,6):\n",
    "        print(6-i,end=' ')\n",
    "    print()"
   ]
  },
  {
   "cell_type": "code",
   "execution_count": 60,
   "id": "d5833cfe-b1d2-462c-a077-c4f97f484556",
   "metadata": {},
   "outputs": [
    {
     "name": "stdout",
     "output_type": "stream",
     "text": [
      "5 4 3 2 1 \n",
      "5 4 3 2 1 \n",
      "5 4 3 2 1 \n",
      "5 4 3 2 1 \n",
      "5 4 3 2 1 \n"
     ]
    }
   ],
   "source": [
    "#Q8.\n",
    "for i in range(1,6):\n",
    "    for j in range(1,6):\n",
    "        print(6-j,end=' ')\n",
    "    print()"
   ]
  },
  {
   "cell_type": "code",
   "execution_count": 66,
   "id": "54770a4c-1bca-4f48-b221-48a28bdecd0e",
   "metadata": {},
   "outputs": [
    {
     "name": "stdout",
     "output_type": "stream",
     "text": [
      "8 8 8 8 8 8 8 8 \n",
      "7 7 7 7 7 7 7 7 \n",
      "6 6 6 6 6 6 6 6 \n",
      "5 5 5 5 5 5 5 5 \n",
      "4 4 4 4 4 4 4 4 \n",
      "3 3 3 3 3 3 3 3 \n",
      "2 2 2 2 2 2 2 2 \n",
      "1 1 1 1 1 1 1 1 \n"
     ]
    }
   ],
   "source": [
    "#Q9.\n",
    "for i in range(1,9):\n",
    "    for j in range(1,9):\n",
    "        print(9-i,end=' ')\n",
    "    print()"
   ]
  },
  {
   "cell_type": "code",
   "execution_count": 72,
   "id": "896cc961-fd32-4c73-a8c6-632319e1fca5",
   "metadata": {},
   "outputs": [
    {
     "name": "stdout",
     "output_type": "stream",
     "text": [
      "EDCBA\n",
      "EDCBA\n",
      "EDCBA\n",
      "EDCBA\n",
      "EDCBA\n"
     ]
    }
   ],
   "source": [
    "#Q10.\n",
    "for i in range(1,6):\n",
    "    for j in range(1,6):\n",
    "        print(chr(70-j),end='')\n",
    "    print()"
   ]
  },
  {
   "cell_type": "code",
   "execution_count": 75,
   "id": "bfecbfed-9d3c-4cf8-b598-2e14db9a2d70",
   "metadata": {},
   "outputs": [
    {
     "name": "stdout",
     "output_type": "stream",
     "text": [
      "X W V U T S R Q P \n",
      "X W V U T S R Q P \n",
      "X W V U T S R Q P \n",
      "X W V U T S R Q P \n",
      "X W V U T S R Q P \n",
      "X W V U T S R Q P \n",
      "X W V U T S R Q P \n",
      "X W V U T S R Q P \n",
      "X W V U T S R Q P \n"
     ]
    }
   ],
   "source": [
    "#Q11.\n",
    "for i in range(1,10):\n",
    "    for j in range(1,10):\n",
    "        print(chr(89-j),end=' ')\n",
    "    print()"
   ]
  },
  {
   "cell_type": "code",
   "execution_count": 11,
   "id": "d3e23840-7c3c-4c91-bc02-9d69cf7283fc",
   "metadata": {},
   "outputs": [
    {
     "name": "stdout",
     "output_type": "stream",
     "text": [
      "E D C B A \n",
      " D C B A \n",
      "  C B A \n",
      "   B A \n",
      "    A \n"
     ]
    }
   ],
   "source": [
    "#Q12.\n",
    "for i in range(5):\n",
    "    print(\" \" * i, end=\"\")\n",
    "    for j in range(5-i):\n",
    "        print(chr(69-j-i),end=' ')\n",
    "    print()\n"
   ]
  },
  {
   "cell_type": "code",
   "execution_count": 25,
   "id": "53d8b7c9-675b-4c08-b5fa-779b353837b0",
   "metadata": {},
   "outputs": [
    {
     "name": "stdout",
     "output_type": "stream",
     "text": [
      "\n",
      "* \n",
      "* * \n",
      "* * * \n",
      "* * * * \n",
      "* * * * * \n"
     ]
    }
   ],
   "source": [
    "#Q13.\n",
    "for i in range(6):\n",
    "    print(\"* \"*i)\n",
    "    "
   ]
  },
  {
   "cell_type": "code",
   "execution_count": 26,
   "id": "e96cbbcc-b19b-46a9-9031-ca1317dd61a6",
   "metadata": {},
   "outputs": [
    {
     "name": "stdout",
     "output_type": "stream",
     "text": [
      "\n",
      "+ \n",
      "+ + \n",
      "+ + + \n",
      "+ + + + \n",
      "+ + + + + \n",
      "+ + + + + + \n",
      "+ + + + + + + \n",
      "+ + + + + + + + \n",
      "+ + + + + + + + + \n",
      "+ + + + + + + + + + \n"
     ]
    }
   ],
   "source": [
    "#Q14.\n",
    "for i in range(11):\n",
    "    print('+ '*i)"
   ]
  },
  {
   "cell_type": "code",
   "execution_count": 36,
   "id": "43e78e44-de28-4b3c-8d08-7774b04a775c",
   "metadata": {},
   "outputs": [
    {
     "name": "stdout",
     "output_type": "stream",
     "text": [
      "1 \n",
      "2 2 \n",
      "3 3 3 \n",
      "4 4 4 4 \n",
      "5 5 5 5 5 \n",
      "6 6 6 6 6 6 \n",
      "7 7 7 7 7 7 7 \n",
      "8 8 8 8 8 8 8 8 \n"
     ]
    }
   ],
   "source": [
    "#Q15.\n",
    "for i in range(1,9):\n",
    "    for j in range(i):\n",
    "          print(i,end=\" \")\n",
    "    print()"
   ]
  },
  {
   "cell_type": "code",
   "execution_count": 2,
   "id": "e446fdfc-95c4-4df4-b7d1-be79c9270c91",
   "metadata": {},
   "outputs": [
    {
     "name": "stdout",
     "output_type": "stream",
     "text": [
      "* * * * * \n",
      "* * * * \n",
      "* * * \n",
      "* * \n",
      "* \n"
     ]
    }
   ],
   "source": [
    "#Q16.\n",
    "for i in range(5,0,-1):\n",
    "    print('* '*i)"
   ]
  },
  {
   "cell_type": "code",
   "execution_count": 114,
   "id": "b7546cd1-b295-4703-843b-b5e049e54f6c",
   "metadata": {},
   "outputs": [
    {
     "name": "stdout",
     "output_type": "stream",
     "text": [
      "# A A A A A \n",
      "# B B B B \n",
      "# C C C \n",
      "# D D \n",
      "# E \n"
     ]
    }
   ],
   "source": [
    "#Q17.\n",
    "for i in range(5):\n",
    "     print('#',end=\" \")\n",
    "     for j in range(5-i):\n",
    "        print(chr(65+i),end=\" \")\n",
    "     print()"
   ]
  },
  {
   "cell_type": "code",
   "execution_count": 5,
   "id": "d32aa495-c215-496b-a713-61096361d6bd",
   "metadata": {},
   "outputs": [
    {
     "name": "stdout",
     "output_type": "stream",
     "text": [
      "  *\n",
      " ***\n",
      "*****\n",
      " ***\n",
      "  *\n"
     ]
    }
   ],
   "source": [
    "#Q18.\n",
    "for i in range(3):\n",
    "    print(' '*(3-i-1)+'*'*(2*i+1))\n",
    "for i in range(1,-1,-1):\n",
    "     print(' '*(3-i-1)+'*'*(2*i+1))"
   ]
  },
  {
   "cell_type": "code",
   "execution_count": 32,
   "id": "933bd1e0-4e5f-4850-af46-41cea300dcb7",
   "metadata": {},
   "outputs": [
    {
     "name": "stdout",
     "output_type": "stream",
     "text": [
      "*****\n",
      "*   *\n",
      "*   *\n",
      "*   *\n",
      "*****\n"
     ]
    }
   ],
   "source": [
    "#Q19.\n",
    "for i in range(5):\n",
    "    if i==0 or i==4:\n",
    "      print('*'*5)\n",
    "    else:\n",
    "      print('*'+' '*3+'*')\n",
    "    "
   ]
  },
  {
   "cell_type": "code",
   "execution_count": 37,
   "id": "14ebbdfe-85d4-427d-ab6d-b0c8252321b6",
   "metadata": {},
   "outputs": [
    {
     "name": "stdout",
     "output_type": "stream",
     "text": [
      "  *   *   *\n",
      " * * * * * *\n",
      "*  *  *  *  *\n"
     ]
    }
   ],
   "source": [
    "#Q20\n",
    "print('  *   *   *')\n",
    "print(' * * * * * *')\n",
    "print('*  *  *  *  *')"
   ]
  },
  {
   "cell_type": "code",
   "execution_count": 51,
   "id": "a1549f79-3c41-4b58-902e-d41e3ba3129d",
   "metadata": {},
   "outputs": [
    {
     "name": "stdout",
     "output_type": "stream",
     "text": [
      "# 5 4 3 2 1 \n",
      "# 5 4 3 2 \n",
      "# 5 4 3 \n",
      "# 5 4 \n",
      "# 5 \n"
     ]
    }
   ],
   "source": [
    "#Q21.\n",
    "for i in range(5):\n",
    "     print('#',end=\" \")\n",
    "     for j in range(1,6-i):\n",
    "        print(6-j,end=\" \")\n",
    "     print()"
   ]
  },
  {
   "cell_type": "code",
   "execution_count": 67,
   "id": "1857f03e-b386-4199-b076-e34b9f384d4e",
   "metadata": {},
   "outputs": [
    {
     "name": "stdout",
     "output_type": "stream",
     "text": [
      "Z Z Z Z Z Z Z Z Z Z Z Z Z Z Z Z \n",
      "Y Y Y Y Y Y Y Y Y Y Y Y Y Y Y \n",
      "X X X X X X X X X X X X X X \n",
      "W W W W W W W W W W W W W \n",
      "V V V V V V V V V V V V \n",
      "U U U U U U U U U U U \n",
      "T T T T T T T T T T \n",
      "S S S S S S S S S \n",
      "R R R R R R R R \n",
      "Q Q Q Q Q Q Q \n",
      "P P P P P P \n",
      "O O O O O \n",
      "N N N N \n",
      "M M M \n",
      "L L \n",
      "K \n",
      "\n"
     ]
    }
   ],
   "source": [
    "#Q22.\n",
    "for i in range(17):\n",
    "     for j in range(16-i):\n",
    "        print(chr(90-i),end=\" \")\n",
    "     print()"
   ]
  },
  {
   "cell_type": "code",
   "execution_count": 71,
   "id": "39d093cb-bd3d-4914-a743-9dd0931e5ad2",
   "metadata": {},
   "outputs": [
    {
     "name": "stdout",
     "output_type": "stream",
     "text": [
      "X W V U T S R Q P O N M L K \n",
      "X W V U T S R Q P O N M L \n",
      "X W V U T S R Q P O N M \n",
      "X W V U T S R Q P O N \n",
      "X W V U T S R Q P O \n",
      "X W V U T S R Q P \n",
      "X W V U T S R Q \n",
      "X W V U T S R \n",
      "X W V U T S \n",
      "X W V U T \n",
      "X W V U \n",
      "X W V \n",
      "X W \n",
      "X \n",
      "\n"
     ]
    }
   ],
   "source": [
    "#Q23.\n",
    "for i in range(15):\n",
    "     for j in range(14-i):\n",
    "        print(chr(88-j),end=\" \")\n",
    "     print()"
   ]
  },
  {
   "cell_type": "code",
   "execution_count": 89,
   "id": "f5daa37c-423c-49ab-87f8-56664f4a3852",
   "metadata": {},
   "outputs": [
    {
     "name": "stdout",
     "output_type": "stream",
     "text": [
      "#      *\n",
      "#     **\n",
      "#    ***\n",
      "#   ****\n",
      "#  *****\n"
     ]
    }
   ],
   "source": [
    "#Q24.\n",
    "for i in range(1,6):\n",
    "     print('#',end=\" \")\n",
    "     print(' '*(6-i)+'*'*i)\n",
    "     "
   ]
  },
  {
   "cell_type": "code",
   "execution_count": 98,
   "id": "d5b3e41c-9665-4494-9b93-508d712ea61b",
   "metadata": {},
   "outputs": [
    {
     "name": "stdout",
     "output_type": "stream",
     "text": [
      "#       1\n",
      "#      22\n",
      "#     333\n",
      "#    4444\n",
      "#   55555\n"
     ]
    }
   ],
   "source": [
    "#Q25.\n",
    "for i in range(1,6):\n",
    "    print('#',end=\" \")\n",
    "    print(' '*(6-i),str(i)*i)\n",
    "    \n",
    "     \n",
    "\n",
    "     \n"
   ]
  },
  {
   "cell_type": "code",
   "execution_count": 104,
   "id": "e6989058-6ce4-4de7-9d30-bea3fc324529",
   "metadata": {},
   "outputs": [
    {
     "name": "stdout",
     "output_type": "stream",
     "text": [
      "         1\n",
      "        22\n",
      "       333\n",
      "      4444\n",
      "     55555\n",
      "    666666\n",
      "   7777777\n",
      "  88888888\n",
      " 999999999\n"
     ]
    }
   ],
   "source": [
    "#Q26.\n",
    "for i in range(1,10):\n",
    "        print(' '*(10-i)+str(i)*i)"
   ]
  },
  {
   "cell_type": "code",
   "execution_count": 122,
   "id": "52508af2-90c6-4dd1-8ef3-65b9f268762c",
   "metadata": {},
   "outputs": [
    {
     "name": "stdout",
     "output_type": "stream",
     "text": [
      "     \n",
      "    A\n",
      "   BB\n",
      "  CCC\n",
      " DDDD\n",
      "EEEEE\n"
     ]
    }
   ],
   "source": [
    "#Q27.\n",
    "for i in range(6):\n",
    "        print(' '*(5-i)+chr(64+i)*i)"
   ]
  },
  {
   "cell_type": "code",
   "execution_count": 130,
   "id": "20fb72ca-ea03-48e6-b37e-027a3e8c2b60",
   "metadata": {},
   "outputs": [
    {
     "name": "stdout",
     "output_type": "stream",
     "text": [
      "      \n",
      "     A\n",
      "    AB\n",
      "   ABC\n",
      "  ABCD\n",
      " ABCDE\n"
     ]
    }
   ],
   "source": [
    "#Q28.\n",
    "alpha='ABCDEFGHIJKL'\n",
    "for i in range(6):\n",
    "    print(' '*(5-i),end=\" \")\n",
    "    print(alpha[:i])"
   ]
  },
  {
   "cell_type": "code",
   "execution_count": 132,
   "id": "06c74392-6e7c-4e5b-9c45-4db5367b5dd5",
   "metadata": {},
   "outputs": [
    {
     "name": "stdout",
     "output_type": "stream",
     "text": [
      "         \n",
      "        H\n",
      "       HI\n",
      "      HIJ\n",
      "     HIJK\n",
      "    HIJKL\n",
      "   HIJKLM\n",
      "  HIJKLMN\n",
      " HIJKLMNO\n"
     ]
    }
   ],
   "source": [
    "#Q29.\n",
    "alpha='HIJKLMNOPQRS'\n",
    "for i in range(9):\n",
    "    print(' '*(8-i),end=\" \")\n",
    "    print(alpha[:i])"
   ]
  },
  {
   "cell_type": "code",
   "execution_count": 135,
   "id": "9794b9b6-f39e-479f-936e-ea03f9a8a82f",
   "metadata": {},
   "outputs": [
    {
     "name": "stdout",
     "output_type": "stream",
     "text": [
      "*****\n",
      " ****\n",
      "  ***\n",
      "   **\n",
      "    *\n"
     ]
    }
   ],
   "source": [
    "#Q30.\n",
    "for i in range(5):\n",
    "    print(' '*i+'*'*(5-i))"
   ]
  },
  {
   "cell_type": "code",
   "execution_count": 136,
   "id": "fb232280-e417-422b-b8a0-c9e023131205",
   "metadata": {},
   "outputs": [
    {
     "name": "stdout",
     "output_type": "stream",
     "text": [
      "!!!!!!!!!!!!\n",
      " !!!!!!!!!!!\n",
      "  !!!!!!!!!!\n",
      "   !!!!!!!!!\n",
      "    !!!!!!!!\n",
      "     !!!!!!!\n",
      "      !!!!!!\n",
      "       !!!!!\n",
      "        !!!!\n",
      "         !!!\n",
      "          !!\n",
      "           !\n"
     ]
    }
   ],
   "source": [
    "#Q31.\n",
    "for i in range(12):\n",
    "    print(' '*i+'!'*(12-i))"
   ]
  },
  {
   "cell_type": "code",
   "execution_count": 142,
   "id": "797d377e-e555-433a-bb43-f4f3a29367d6",
   "metadata": {},
   "outputs": [
    {
     "name": "stdout",
     "output_type": "stream",
     "text": [
      "999999999\n",
      " 88888888\n",
      "  7777777\n",
      "   666666\n",
      "    55555\n",
      "     4444\n",
      "      333\n",
      "       22\n",
      "        1\n"
     ]
    }
   ],
   "source": [
    "#Q32.\n",
    "for i in range(9):\n",
    "    print(' '*i+str(9-i)*(9-i))"
   ]
  },
  {
   "cell_type": "code",
   "execution_count": 151,
   "id": "9e4a57a7-26be-452b-93a9-4a5a730a45ed",
   "metadata": {},
   "outputs": [
    {
     "name": "stdout",
     "output_type": "stream",
     "text": [
      "XXXXXXXXX\n",
      " WWWWWWWW\n",
      "  VVVVVVV\n",
      "   UUUUUU\n",
      "    TTTTT\n",
      "     SSSS\n",
      "      RRR\n",
      "       QQ\n",
      "        P\n"
     ]
    }
   ],
   "source": [
    "#Q33.\n",
    "for i in range(9):\n",
    "    print(' '*i+chr(88-i)*(9-i))"
   ]
  },
  {
   "cell_type": "code",
   "execution_count": 152,
   "id": "5ada8110-9cfb-4ed8-be1e-748b987c01b4",
   "metadata": {},
   "outputs": [
    {
     "name": "stdout",
     "output_type": "stream",
     "text": [
      "XXXXXXXXXXXXX\n",
      " WWWWWWWWWWWW\n",
      "  VVVVVVVVVVV\n",
      "   UUUUUUUUUU\n",
      "    TTTTTTTTT\n",
      "     SSSSSSSS\n",
      "      RRRRRRR\n",
      "       QQQQQQ\n",
      "        PPPPP\n",
      "         OOOO\n",
      "          NNN\n",
      "           MM\n",
      "            L\n"
     ]
    }
   ],
   "source": [
    "#Q34.\n",
    "for i in range(13):\n",
    "    print(' '*i+chr(88-i)*(13-i))"
   ]
  },
  {
   "cell_type": "code",
   "execution_count": 167,
   "id": "5a62e221-ee76-4e2d-b4c6-ebcf60130003",
   "metadata": {},
   "outputs": [
    {
     "name": "stdout",
     "output_type": "stream",
     "text": [
      "     KLMNOPQRST    \n",
      "     KLMNOPQRS     \n",
      "      KLMNOPQR     \n",
      "      KLMNOPQ      \n",
      "       KLMNOP      \n",
      "       KLMNO       \n",
      "        KLMN       \n",
      "        KLM        \n",
      "         KL        \n",
      "         K         \n"
     ]
    }
   ],
   "source": [
    "#Q35.\n",
    "for i in range(10,0,-1):\n",
    "    letters = ''.join(chr(ord('K') + j) for j in range(i))\n",
    "    print(letters.center(10 + 9))"
   ]
  },
  {
   "cell_type": "code",
   "execution_count": 11,
   "id": "1717d00f-a78c-4bb2-a21c-7c7b1b5f4570",
   "metadata": {},
   "outputs": [
    {
     "name": "stdout",
     "output_type": "stream",
     "text": [
      "       \n",
      "      *\n",
      "     ***\n",
      "    *****\n",
      "   *******\n",
      "  *********\n"
     ]
    }
   ],
   "source": [
    "#Q36.\n",
    "for i in range(6):\n",
    "    print(\" \"*(6-i),end=\" \")\n",
    "    print('*'*(2*i-1))"
   ]
  },
  {
   "cell_type": "code",
   "execution_count": 22,
   "id": "7e9f85e3-0185-4abd-9e41-7becc0d49215",
   "metadata": {},
   "outputs": [
    {
     "name": "stdout",
     "output_type": "stream",
     "text": [
      "          1\n",
      "         222\n",
      "        33333\n",
      "       4444444\n",
      "      555555555\n",
      "     66666666666\n",
      "    7777777777777\n",
      "   888888888888888\n",
      "  99999999999999999\n"
     ]
    }
   ],
   "source": [
    "#Q37.\n",
    "for i in range(1,10):\n",
    "     print(\" \"*(10-i),end=\" \")\n",
    "     print(str(i)*(2*i-1))\n",
    "    "
   ]
  },
  {
   "cell_type": "code",
   "execution_count": 42,
   "id": "aee438c9-d133-4d7c-9cd5-6245b64d5d8f",
   "metadata": {},
   "outputs": [
    {
     "name": "stdout",
     "output_type": "stream",
     "text": [
      "     1\n",
      "    333\n",
      "   55555\n",
      "  7777777\n",
      " 999999999\n"
     ]
    }
   ],
   "source": [
    "#Q38.\n",
    "for i in range(1,10,2):\n",
    "         print(\" \"*((9-i)//2),end=\" \")\n",
    "         print(str(i)*i)"
   ]
  },
  {
   "cell_type": "code",
   "execution_count": 62,
   "id": "8223d387-f490-4620-b02b-e21e45baa7e6",
   "metadata": {},
   "outputs": [
    {
     "name": "stdout",
     "output_type": "stream",
     "text": [
      "        H\n",
      "       III\n",
      "      JJJJJ\n",
      "     KKKKKKK\n",
      "    LLLLLLLLL\n",
      "   MMMMMMMMMMM\n",
      "  NNNNNNNNNNNNN\n",
      " OOOOOOOOOOOOOOO\n"
     ]
    }
   ],
   "source": [
    "#Q39.\n",
    "for i in range(1,9):\n",
    "         print(\" \"*(8-i),end=\" \")\n",
    "         print(chr(71+i)*(2*i-1))   "
   ]
  },
  {
   "cell_type": "code",
   "execution_count": 73,
   "id": "90107534-0249-47f6-826e-269ab58bc849",
   "metadata": {},
   "outputs": [
    {
     "name": "stdout",
     "output_type": "stream",
     "text": [
      "         H\n",
      "        JJJ\n",
      "       LLLLL\n",
      "      NNNNNNN\n",
      "     PPPPPPPPP\n",
      "    RRRRRRRRRRR\n",
      "   TTTTTTTTTTTTT\n",
      "  VVVVVVVVVVVVVVV\n",
      " XXXXXXXXXXXXXXXXX\n"
     ]
    }
   ],
   "source": [
    "#Q40.\n",
    "for i in range(1,18,2):\n",
    "         print(\" \"*((18-i)//2),end=\" \")\n",
    "         print(chr(71+i)*i) "
   ]
  },
  {
   "cell_type": "code",
   "execution_count": 86,
   "id": "e046a7ba-8b20-437c-81d9-1870c5a7b73d",
   "metadata": {},
   "outputs": [
    {
     "name": "stdin",
     "output_type": "stream",
     "text": [
      " 5\n"
     ]
    },
    {
     "name": "stdout",
     "output_type": "stream",
     "text": [
      "    1    \n",
      "   321   \n",
      "  54321  \n",
      " 7654321 \n",
      "987654321\n"
     ]
    }
   ],
   "source": [
    "#Q41.\n",
    "rows=int(input())\n",
    "for i in range(rows):\n",
    "        max_num = 2 * i + 1\n",
    "        number_list = [str(n) for n in range(max_num, 0, -1)]\n",
    "        line = ''.join(number_list)\n",
    "        print(f\"{line:^{2 * rows - 1}}\")  \n",
    "\n",
    "     \n",
    "    "
   ]
  },
  {
   "cell_type": "code",
   "execution_count": 89,
   "id": "cf8ca5d8-19ee-4cc9-a568-e21906afad0b",
   "metadata": {},
   "outputs": [
    {
     "name": "stdin",
     "output_type": "stream",
     "text": [
      " 6\n",
      " H\n"
     ]
    },
    {
     "name": "stdout",
     "output_type": "stream",
     "text": [
      "      H       \n",
      "     JIH      \n",
      "    LKJIH     \n",
      "   NMLKJIH    \n",
      "  PONMLKJIH   \n",
      " RQPONMLKJIH  \n"
     ]
    }
   ],
   "source": [
    "#Q42.\n",
    "rows=int(input())\n",
    "start_char=input()\n",
    "start_ascii = ord(start_char)\n",
    "for i in range(rows):\n",
    "        start_letter = chr(start_ascii + 2 * i)\n",
    "        letters = ''.join(chr(c) for c in range(ord(start_letter), ord('H') - 1, -1))\n",
    "        print(f\"{letters:^{rows + 8}}\")"
   ]
  },
  {
   "cell_type": "code",
   "execution_count": 91,
   "id": "df3b841b-9deb-4376-a2c3-6c98a00efef7",
   "metadata": {},
   "outputs": [
    {
     "name": "stdin",
     "output_type": "stream",
     "text": [
      " 5\n",
      " A\n"
     ]
    },
    {
     "name": "stdout",
     "output_type": "stream",
     "text": [
      "      A      \n",
      "     CBA     \n",
      "    EDCBA    \n",
      "   GFEDCBA   \n",
      "  IHGFEDCBA  \n"
     ]
    }
   ],
   "source": [
    "#Q43.\n",
    "rows=int(input())\n",
    "start_char=input()\n",
    "start_ascii = ord(start_char)\n",
    "for i in range(rows):\n",
    "        start_letter = chr(start_ascii + 2 * i)\n",
    "        letters = ''.join(chr(c) for c in range(ord(start_letter), ord('A') - 1, -1))\n",
    "        print(f\"{letters:^{rows + 8}}\")"
   ]
  },
  {
   "cell_type": "code",
   "execution_count": 95,
   "id": "36351403-d7f4-499d-962a-176a489b0b8a",
   "metadata": {},
   "outputs": [
    {
     "name": "stdout",
     "output_type": "stream",
     "text": [
      "    0    \n",
      "   101   \n",
      "  21012  \n",
      " 3210123 \n",
      "432101234\n"
     ]
    }
   ],
   "source": [
    "#Q44.\n",
    "for i in range(5):\n",
    "    left=''.join(str(j) for j in range(i,-1,-1))\n",
    "    right=''.join(str(j) for j in range(1,i+1))\n",
    "    line=left+right\n",
    "    print(f\"{line:^{9}}\")"
   ]
  },
  {
   "cell_type": "code",
   "execution_count": 96,
   "id": "956e7c14-fa67-4f1d-ae2f-ad45e0e7e3eb",
   "metadata": {},
   "outputs": [
    {
     "name": "stdout",
     "output_type": "stream",
     "text": [
      "    A    \n",
      "   BAB   \n",
      "  CBABC  \n",
      " DCBABCD \n",
      "EDCBABCDE\n"
     ]
    }
   ],
   "source": [
    "#Q45.\n",
    "for i in range(5):\n",
    "        start_letter = chr(65+ i)\n",
    "        left = ''.join(chr(c) for c in range(ord(start_letter), ord('A') - 1, -1))\n",
    "        right = ''.join(chr(c) for c in range(ord('A') + 1, ord(start_letter) + 1))\n",
    "        line = left + right\n",
    "        print(f\"{line:^{9}}\")"
   ]
  },
  {
   "cell_type": "code",
   "execution_count": 100,
   "id": "fd071cd9-ea3f-479d-8e29-885a847b6e73",
   "metadata": {},
   "outputs": [
    {
     "name": "stdout",
     "output_type": "stream",
     "text": [
      "        1        \n",
      "       121       \n",
      "      12321      \n",
      "     1234321     \n",
      "    123454321    \n",
      "   12345654321   \n",
      "  1234567654321  \n",
      " 123456787654321 \n",
      "12345678987654321\n"
     ]
    }
   ],
   "source": [
    "#Q46.\n",
    "for i in range(1,10):\n",
    "    left=''.join(str(j) for j in range(1,i+1))\n",
    "    right=''.join(str(j) for j in range(i-1,0,-1))\n",
    "    line=left+right\n",
    "    print(f\"{line:^{17}}\")"
   ]
  },
  {
   "cell_type": "code",
   "execution_count": 103,
   "id": "688819d6-0709-440b-aecb-eaa5f6e137f2",
   "metadata": {},
   "outputs": [
    {
     "name": "stdout",
     "output_type": "stream",
     "text": [
      " *******\n",
      "  *****\n",
      "   ***\n",
      "    *\n"
     ]
    }
   ],
   "source": [
    "#Q47.\n",
    "for i in range(4,0,-1):\n",
    "    print(\" \"*(4-i),end=\" \")\n",
    "    print('*'*(2*i-1))\n"
   ]
  },
  {
   "cell_type": "code",
   "execution_count": 123,
   "id": "659fc983-5aff-40a9-a339-ae7eefe284e7",
   "metadata": {},
   "outputs": [
    {
     "name": "stdout",
     "output_type": "stream",
     "text": [
      "7777777\n",
      " 55555\n",
      "  333\n",
      "   1\n"
     ]
    }
   ],
   "source": [
    "#Q48.\n",
    "digits=[7,5,3,1]\n",
    "for i, digit in enumerate(digits):\n",
    "        spaces = i \n",
    "        line = ' ' * spaces + str(digit) * digit\n",
    "        print(line)"
   ]
  },
  {
   "cell_type": "code",
   "execution_count": 124,
   "id": "ed3eb8ea-8982-479b-a198-866a909550d2",
   "metadata": {},
   "outputs": [
    {
     "name": "stdout",
     "output_type": "stream",
     "text": [
      "123456789\n",
      " 1234567\n",
      "  12345\n",
      "   123\n",
      "    1\n"
     ]
    }
   ],
   "source": [
    "#Q50.\n",
    "numbers = [9, 7, 5, 3, 1] \n",
    "for i, count in enumerate(numbers):\n",
    "        line = ''.join(str(j) for j in range(1, count + 1))\n",
    "        print(' ' * i + line)\n",
    "\n"
   ]
  },
  {
   "cell_type": "code",
   "execution_count": 5,
   "id": "1b9e10bf-0fd9-44a3-8e33-7eaf77e079e1",
   "metadata": {},
   "outputs": [
    {
     "name": "stdout",
     "output_type": "stream",
     "text": [
      "\n",
      "*\n",
      "**\n",
      "***\n",
      "****\n",
      "***\n",
      "**\n",
      "*\n"
     ]
    }
   ],
   "source": [
    "#Q51.\n",
    "for i in range(5):\n",
    "    print('*'*i)\n",
    "for i in range(3,0,-1):\n",
    "    print('*'*i)"
   ]
  },
  {
   "cell_type": "code",
   "execution_count": 132,
   "id": "3e39e5ac-089e-4a6d-9481-619af9e72815",
   "metadata": {},
   "outputs": [
    {
     "name": "stdin",
     "output_type": "stream",
     "text": [
      " 5\n"
     ]
    },
    {
     "name": "stdout",
     "output_type": "stream",
     "text": [
      "    *\n",
      "   * *\n",
      "  *   *\n",
      " *     *\n",
      "*       *\n"
     ]
    }
   ],
   "source": [
    "#52.\n",
    "rows=int(input())\n",
    "for i in range(rows):\n",
    "        spaces_before = ' ' * (rows - i - 1)\n",
    "        if i == 0:\n",
    "            print(spaces_before + '*')\n",
    "        else:\n",
    "            spaces_between = ' ' * (2 * i - 1)\n",
    "            print(spaces_before + '*' + spaces_between + '*')\n"
   ]
  },
  {
   "cell_type": "code",
   "execution_count": 146,
   "id": "d288adc0-562e-44cf-8a29-cacfbf20e490",
   "metadata": {},
   "outputs": [
    {
     "name": "stdin",
     "output_type": "stream",
     "text": [
      " 3\n"
     ]
    },
    {
     "name": "stdout",
     "output_type": "stream",
     "text": [
      "3\n",
      "2 3\n",
      "1 2 3\n",
      "0 1 2 3\n",
      "1 2 3\n",
      "2 3\n",
      "3\n"
     ]
    }
   ],
   "source": [
    "#Q53.\n",
    "n=int(input())\n",
    "for i in range(n + 1):\n",
    "    start = n - i\n",
    "    row = [str(start + j) for j in range(i + 1)]\n",
    "    print(' '.join(row))\n",
    "for i in range(n - 1, -1, -1):\n",
    "    start = n - i\n",
    "    row = [str(start + j) for j in range(i + 1)]\n",
    "    print(' '.join(row))"
   ]
  },
  {
   "cell_type": "code",
   "execution_count": 145,
   "id": "95f052d7-7612-4b76-ad3c-456901647fbe",
   "metadata": {},
   "outputs": [
    {
     "name": "stdout",
     "output_type": "stream",
     "text": [
      "1       1\n",
      " 2     2\n",
      "  3   3\n",
      "   4 4\n",
      "    5\n"
     ]
    }
   ],
   "source": [
    "#Q54.\n",
    "n = 5\n",
    "for i in range(1, n + 1):\n",
    "    spaces_before = ' ' * (i - 1)\n",
    "    if i != n:\n",
    "        spaces_middle = ' ' * ((n - i - 1) * 2 + 1)\n",
    "        print(f\"{spaces_before}{i}{spaces_middle}{i}\")\n",
    "    else:\n",
    "        print(f\"{spaces_before}{i}\")\n",
    "        "
   ]
  },
  {
   "cell_type": "code",
   "execution_count": null,
   "id": "80c45ad7-2e69-404b-842f-d1c09868b3c2",
   "metadata": {},
   "outputs": [],
   "source": []
  }
 ],
 "metadata": {
  "kernelspec": {
   "display_name": "Python 3 (ipykernel)",
   "language": "python",
   "name": "python3"
  },
  "language_info": {
   "codemirror_mode": {
    "name": "ipython",
    "version": 3
   },
   "file_extension": ".py",
   "mimetype": "text/x-python",
   "name": "python",
   "nbconvert_exporter": "python",
   "pygments_lexer": "ipython3",
   "version": "3.12.7"
  }
 },
 "nbformat": 4,
 "nbformat_minor": 5
}
