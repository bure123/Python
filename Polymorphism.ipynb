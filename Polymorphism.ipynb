{
 "cells": [
  {
   "cell_type": "markdown",
   "id": "26a53771-7719-4535-aa61-fec63d2b7d18",
   "metadata": {},
   "source": [
    "# Polymorphism\n",
    "\n",
    "` poly means many and morphs means forms\n",
    "\n",
    "` if any function or method or operators having multiple forms,we can say that it is polymorphisam\n",
    "\n",
    "` for example student"
   ]
  },
  {
   "cell_type": "markdown",
   "id": "eccc4591-b63b-4747-bcf7-b3d4a13e1f91",
   "metadata": {},
   "source": [
    "# function overloading\n",
    "` creating more than one function with same name but different no of parameters is called  function overloading"
   ]
  },
  {
   "cell_type": "code",
   "execution_count": 1,
   "id": "e0c09a17-e851-4827-83ff-b1a927a65060",
   "metadata": {},
   "outputs": [],
   "source": [
    "def add(a,b):\n",
    "    return a+b"
   ]
  },
  {
   "cell_type": "code",
   "execution_count": 2,
   "id": "8675477b-50cc-4bb0-8be4-135a7946ff00",
   "metadata": {},
   "outputs": [],
   "source": [
    "def add(a,b,c):\n",
    "    return a+b+c"
   ]
  },
  {
   "cell_type": "code",
   "execution_count": 3,
   "id": "f02532eb-30a7-43b6-83fd-ec02d5ff0333",
   "metadata": {},
   "outputs": [],
   "source": [
    "def add(a,b,c,d):\n",
    "    return a+b+c+d"
   ]
  },
  {
   "cell_type": "code",
   "execution_count": 6,
   "id": "6ab0708a-fa30-4a3f-8e0f-ee7ade7b339e",
   "metadata": {},
   "outputs": [
    {
     "ename": "TypeError",
     "evalue": "add() missing 1 required positional argument: 'd'",
     "output_type": "error",
     "traceback": [
      "\u001b[1;31m---------------------------------------------------------------------------\u001b[0m",
      "\u001b[1;31mTypeError\u001b[0m                                 Traceback (most recent call last)",
      "Cell \u001b[1;32mIn[6], line 1\u001b[0m\n\u001b[1;32m----> 1\u001b[0m add(\u001b[38;5;241m2\u001b[39m,\u001b[38;5;241m3\u001b[39m,\u001b[38;5;241m4\u001b[39m)\n",
      "\u001b[1;31mTypeError\u001b[0m: add() missing 1 required positional argument: 'd'"
     ]
    }
   ],
   "source": [
    "add(2,3,4)"
   ]
  },
  {
   "cell_type": "markdown",
   "id": "34f5ccba-7499-482d-b8cc-5c3c31c1c44c",
   "metadata": {},
   "source": [
    "#  using arbitary parameter"
   ]
  },
  {
   "cell_type": "code",
   "execution_count": 1,
   "id": "22d1d3f0-09ae-4304-833d-851f79b3ed05",
   "metadata": {},
   "outputs": [],
   "source": [
    "def add(*args):\n",
    "    return args"
   ]
  },
  {
   "cell_type": "code",
   "execution_count": 8,
   "id": "4828a15d-ba21-4d7e-a88e-89d8b9d3e236",
   "metadata": {},
   "outputs": [
    {
     "data": {
      "text/plain": [
       "(1,)"
      ]
     },
     "execution_count": 8,
     "metadata": {},
     "output_type": "execute_result"
    }
   ],
   "source": [
    "add(1)"
   ]
  },
  {
   "cell_type": "code",
   "execution_count": 9,
   "id": "09911477-8cb7-41bb-9ae9-856f680ab143",
   "metadata": {},
   "outputs": [
    {
     "data": {
      "text/plain": [
       "(2, 3, 4)"
      ]
     },
     "execution_count": 9,
     "metadata": {},
     "output_type": "execute_result"
    }
   ],
   "source": [
    "add(2,3,4)"
   ]
  },
  {
   "cell_type": "code",
   "execution_count": 10,
   "id": "9d8b1976-9544-4091-8559-6f87f824d96a",
   "metadata": {},
   "outputs": [
    {
     "data": {
      "text/plain": [
       "()"
      ]
     },
     "execution_count": 10,
     "metadata": {},
     "output_type": "execute_result"
    }
   ],
   "source": [
    "add()"
   ]
  },
  {
   "cell_type": "code",
   "execution_count": 4,
   "id": "4efdb36e-f439-47f4-be5d-66e6f43fb898",
   "metadata": {},
   "outputs": [],
   "source": [
    "def add(*args):\n",
    "    return sum(args)"
   ]
  },
  {
   "cell_type": "code",
   "execution_count": 6,
   "id": "f8ad6eb8-3bd7-4e37-8e19-7c431bb08f76",
   "metadata": {},
   "outputs": [
    {
     "data": {
      "text/plain": [
       "23"
      ]
     },
     "execution_count": 6,
     "metadata": {},
     "output_type": "execute_result"
    }
   ],
   "source": [
    "add(1,2,5,6,9)"
   ]
  },
  {
   "cell_type": "markdown",
   "id": "a847fcdf-ad7e-4a8c-b957-6691b00b3d4d",
   "metadata": {},
   "source": [
    "# using dispatch decorator"
   ]
  },
  {
   "cell_type": "code",
   "execution_count": 15,
   "id": "21e69414-064d-46cc-b97c-2c8d07e73db6",
   "metadata": {},
   "outputs": [],
   "source": [
    "from multipledispatch import dispatch"
   ]
  },
  {
   "cell_type": "code",
   "execution_count": 16,
   "id": "34f761d9-7ace-4dd1-84f3-526bcea8bfe9",
   "metadata": {},
   "outputs": [],
   "source": [
    "@dispatch(int,int,int,int)\n",
    "def add(a,b,c,d):\n",
    "    return a+b+c+d"
   ]
  },
  {
   "cell_type": "code",
   "execution_count": 17,
   "id": "e931cfe2-e18c-4e71-987c-957529c75618",
   "metadata": {},
   "outputs": [],
   "source": [
    "@dispatch(int,int,int)\n",
    "def add(a,b,c):\n",
    "    return a+b+c"
   ]
  },
  {
   "cell_type": "code",
   "execution_count": 18,
   "id": "9d5ebd57-76eb-4800-8652-fad710938c98",
   "metadata": {},
   "outputs": [],
   "source": [
    "@dispatch(int,int)\n",
    "def add(a,b):\n",
    "    return a+b"
   ]
  },
  {
   "cell_type": "code",
   "execution_count": 19,
   "id": "9274c217-24e9-488b-b6aa-cec9800c8270",
   "metadata": {},
   "outputs": [
    {
     "data": {
      "text/plain": [
       "10"
      ]
     },
     "execution_count": 19,
     "metadata": {},
     "output_type": "execute_result"
    }
   ],
   "source": [
    "add(1,2,3,4)"
   ]
  },
  {
   "cell_type": "code",
   "execution_count": 20,
   "id": "309b889d-cabe-490e-839a-e4acdc381bf3",
   "metadata": {},
   "outputs": [
    {
     "data": {
      "text/plain": [
       "6"
      ]
     },
     "execution_count": 20,
     "metadata": {},
     "output_type": "execute_result"
    }
   ],
   "source": [
    "add(1,2,3)"
   ]
  },
  {
   "cell_type": "code",
   "execution_count": 21,
   "id": "dffe27e0-882e-4d7b-8361-c01e9428a4ca",
   "metadata": {},
   "outputs": [
    {
     "data": {
      "text/plain": [
       "11"
      ]
     },
     "execution_count": 21,
     "metadata": {},
     "output_type": "execute_result"
    }
   ],
   "source": [
    "add(5,6)"
   ]
  },
  {
   "cell_type": "markdown",
   "id": "279ad8f9-9d0d-474d-8d96-e974d016c587",
   "metadata": {},
   "source": [
    "# operator overloading"
   ]
  },
  {
   "cell_type": "code",
   "execution_count": 22,
   "id": "ee58ad1f-ceb5-446f-a501-24fda1777819",
   "metadata": {},
   "outputs": [
    {
     "data": {
      "text/plain": [
       "5"
      ]
     },
     "execution_count": 22,
     "metadata": {},
     "output_type": "execute_result"
    }
   ],
   "source": [
    "2+3"
   ]
  },
  {
   "cell_type": "code",
   "execution_count": 23,
   "id": "aa58ab18-e8c5-437d-b344-7a62d1163b72",
   "metadata": {},
   "outputs": [
    {
     "data": {
      "text/plain": [
       "'ab'"
      ]
     },
     "execution_count": 23,
     "metadata": {},
     "output_type": "execute_result"
    }
   ],
   "source": [
    "'a'+'b'"
   ]
  },
  {
   "cell_type": "code",
   "execution_count": 24,
   "id": "b59544ba-e691-4597-a4fa-d11c80470b4b",
   "metadata": {},
   "outputs": [
    {
     "data": {
      "text/plain": [
       "6"
      ]
     },
     "execution_count": 24,
     "metadata": {},
     "output_type": "execute_result"
    }
   ],
   "source": [
    "2*3\n"
   ]
  },
  {
   "cell_type": "code",
   "execution_count": 25,
   "id": "76240ae7-f8f9-47a7-a571-9fc9562c332e",
   "metadata": {},
   "outputs": [
    {
     "data": {
      "text/plain": [
       "8"
      ]
     },
     "execution_count": 25,
     "metadata": {},
     "output_type": "execute_result"
    }
   ],
   "source": [
    "2**3"
   ]
  },
  {
   "cell_type": "code",
   "execution_count": 32,
   "id": "3bc6c6e0-f406-4ca4-b327-d69576c02240",
   "metadata": {},
   "outputs": [
    {
     "data": {
      "text/plain": [
       "3"
      ]
     },
     "execution_count": 32,
     "metadata": {},
     "output_type": "execute_result"
    }
   ],
   "source": [
    "len([1,2,3])"
   ]
  },
  {
   "cell_type": "code",
   "execution_count": 33,
   "id": "c8aca110-eb08-4026-aa9a-146a3ca94b6a",
   "metadata": {},
   "outputs": [
    {
     "data": {
      "text/plain": [
       "4"
      ]
     },
     "execution_count": 33,
     "metadata": {},
     "output_type": "execute_result"
    }
   ],
   "source": [
    "len([1,2,6,5])"
   ]
  },
  {
   "cell_type": "code",
   "execution_count": 26,
   "id": "97887e26-1faf-47bb-818e-a60f3a08bf28",
   "metadata": {},
   "outputs": [],
   "source": [
    "class Dog:\n",
    "    def Barking(self):\n",
    "        print('Bow Bow')"
   ]
  },
  {
   "cell_type": "code",
   "execution_count": 27,
   "id": "0cf221c3-c4f5-47f6-a539-d5e7a4e64041",
   "metadata": {},
   "outputs": [],
   "source": [
    "class Cat:\n",
    "    def Barking(self):\n",
    "        print(\"Meow Meow\")"
   ]
  },
  {
   "cell_type": "code",
   "execution_count": 30,
   "id": "c994923b-7537-4a93-85d6-89766a52d11c",
   "metadata": {},
   "outputs": [
    {
     "name": "stdout",
     "output_type": "stream",
     "text": [
      "Bow Bow\n"
     ]
    }
   ],
   "source": [
    "d=Dog()\n",
    "d.Barking()"
   ]
  },
  {
   "cell_type": "code",
   "execution_count": 29,
   "id": "a9e6c183-e115-40cf-bc8f-e25ce86dceaf",
   "metadata": {},
   "outputs": [
    {
     "name": "stdout",
     "output_type": "stream",
     "text": [
      "Meow Meow\n"
     ]
    }
   ],
   "source": [
    "c=Cat()\n",
    "c.Barking()"
   ]
  },
  {
   "cell_type": "markdown",
   "id": "21cae9ca-9206-4f10-b79c-6e8db156a550",
   "metadata": {},
   "source": [
    "# Function overriding\n",
    "` creating more than one function with same name and same no of parameters is called function overriding"
   ]
  },
  {
   "cell_type": "code",
   "execution_count": 35,
   "id": "669302f2-8593-4d22-a261-fc745c6b36e8",
   "metadata": {},
   "outputs": [],
   "source": [
    "def add(a,b):\n",
    "    return a+b "
   ]
  },
  {
   "cell_type": "code",
   "execution_count": 36,
   "id": "a8a623b1-2ab5-4e21-a1a4-39e5320090f0",
   "metadata": {},
   "outputs": [],
   "source": [
    "def add(a,b):\n",
    "    return a+b "
   ]
  },
  {
   "cell_type": "code",
   "execution_count": 37,
   "id": "977d2707-052f-4ee4-9736-511e22ceb7b9",
   "metadata": {},
   "outputs": [],
   "source": [
    "def add(a,b):\n",
    "    return a+b "
   ]
  },
  {
   "cell_type": "code",
   "execution_count": 38,
   "id": "ccbfba4b-94c7-4b8a-abd0-0973d36c4f06",
   "metadata": {},
   "outputs": [
    {
     "data": {
      "text/plain": [
       "15"
      ]
     },
     "execution_count": 38,
     "metadata": {},
     "output_type": "execute_result"
    }
   ],
   "source": [
    "add(5,10)"
   ]
  },
  {
   "cell_type": "code",
   "execution_count": null,
   "id": "e1f4c7fc-fc33-4f76-9bea-25ab8530fed8",
   "metadata": {},
   "outputs": [],
   "source": [
    "x=2\n",
    "if x="
   ]
  },
  {
   "cell_type": "code",
   "execution_count": 1,
   "id": "352e2688-7b08-4a03-a71f-0577a8fe4dc0",
   "metadata": {},
   "outputs": [],
   "source": [
    "class hello:\n",
    "    def __init__(self,yeshu):\n",
    "        self.yeshu='yeshu'\n",
    "    def wish(self):\n",
    "        print(f\"say {self.yeshu} hello\")"
   ]
  },
  {
   "cell_type": "code",
   "execution_count": 2,
   "id": "07a8989b-2474-4112-941a-577d25107a0b",
   "metadata": {},
   "outputs": [],
   "source": [
    "h1=hello('yeshu')"
   ]
  },
  {
   "cell_type": "code",
   "execution_count": 3,
   "id": "5b98ecf4-dc0a-4077-a1d6-7aa850c5cefe",
   "metadata": {},
   "outputs": [
    {
     "name": "stdout",
     "output_type": "stream",
     "text": [
      "say yeshu hello\n"
     ]
    }
   ],
   "source": [
    "h1.wish()"
   ]
  }
 ],
 "metadata": {
  "kernelspec": {
   "display_name": "Python 3 (ipykernel)",
   "language": "python",
   "name": "python3"
  },
  "language_info": {
   "codemirror_mode": {
    "name": "ipython",
    "version": 3
   },
   "file_extension": ".py",
   "mimetype": "text/x-python",
   "name": "python",
   "nbconvert_exporter": "python",
   "pygments_lexer": "ipython3",
   "version": "3.12.7"
  }
 },
 "nbformat": 4,
 "nbformat_minor": 5
}
